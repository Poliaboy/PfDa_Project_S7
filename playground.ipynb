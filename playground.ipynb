{
 "cells": [
  {
   "cell_type": "code",
   "execution_count": 1,
   "outputs": [],
   "source": [
    "import streamlit as st\n",
    "import pandas as pd\n",
    "import numpy as np\n",
    "import matplotlib.pyplot as plt\n",
    "\n",
    "# Load your data\n",
    "heart_disease_data = pd.read_csv('heart_disease.csv')\n",
    "\n"
   ],
   "metadata": {
    "collapsed": false,
    "ExecuteTime": {
     "end_time": "2023-11-20T13:47:23.189067500Z",
     "start_time": "2023-11-20T13:47:20.988037100Z"
    }
   },
   "id": "ca4fcb4b460cd631"
  },
  {
   "cell_type": "code",
   "execution_count": 2,
   "outputs": [],
   "source": [
    "# Define a dictionary for renaming the columns\n",
    "renaming_dict = {\n",
    "    'age': 'age',\n",
    "    'sex': 'gender',\n",
    "    'cp': 'chest_pain_type',\n",
    "    'trestbps': 'resting_blood_pressure',\n",
    "    'chol': 'serum_cholesterol_mg_per_dl',\n",
    "    'fbs': 'fasting_blood_sugar_gt_120_mg_per_dl',\n",
    "    'restecg': 'resting_ecg_results',\n",
    "    'thalach': 'maximum_heart_rate_achieved',\n",
    "    'exang': 'exercise_induced_angina',\n",
    "    'oldpeak': 'st_depression_induced_by_exercise_relative_to_rest',\n",
    "    'slope': 'slope_of_peak_exercise_st_segment',\n",
    "    'ca': 'number_of_major_vessels_colored_by_flourosopy',\n",
    "    'thal': 'thalassemia',\n",
    "    'num': 'diagnosis_of_heart_disease'\n",
    "}\n",
    "\n",
    "# Code to rename the columns\n",
    "heart_disease_data_renamed = heart_disease_data.rename(columns=renaming_dict)"
   ],
   "metadata": {
    "collapsed": false,
    "ExecuteTime": {
     "end_time": "2023-11-20T13:47:23.197644400Z",
     "start_time": "2023-11-20T13:47:23.190072800Z"
    }
   },
   "id": "1b00f7369a5eb93a"
  },
  {
   "cell_type": "code",
   "execution_count": 2,
   "outputs": [],
   "source": [],
   "metadata": {
    "collapsed": false,
    "ExecuteTime": {
     "end_time": "2023-11-20T13:47:23.207645100Z",
     "start_time": "2023-11-20T13:47:23.196120700Z"
    }
   },
   "id": "345ef62ca19512a7"
  },
  {
   "cell_type": "code",
   "execution_count": 3,
   "outputs": [
    {
     "data": {
      "text/plain": "(    age  gender  chest_pain_type  resting_blood_pressure  \\\n 0  63.0     1.0              1.0                   145.0   \n 1  67.0     1.0              4.0                   160.0   \n 2  67.0     1.0              4.0                   120.0   \n 3  37.0     1.0              3.0                   130.0   \n 4  41.0     0.0              2.0                   130.0   \n \n    serum_cholesterol_mg_per_dl  fasting_blood_sugar_gt_120_mg_per_dl  \\\n 0                        233.0                                   1.0   \n 1                        286.0                                   0.0   \n 2                        229.0                                   0.0   \n 3                        250.0                                   0.0   \n 4                        204.0                                   0.0   \n \n    resting_ecg_results  maximum_heart_rate_achieved  exercise_induced_angina  \\\n 0                  2.0                        150.0                      0.0   \n 1                  2.0                        108.0                      1.0   \n 2                  2.0                        129.0                      1.0   \n 3                  0.0                        187.0                      0.0   \n 4                  2.0                        172.0                      0.0   \n \n    st_depression_induced_by_exercise_relative_to_rest  \\\n 0                                                2.3    \n 1                                                1.5    \n 2                                                2.6    \n 3                                                3.5    \n 4                                                1.4    \n \n    slope_of_peak_exercise_st_segment  \\\n 0                                3.0   \n 1                                2.0   \n 2                                2.0   \n 3                                3.0   \n 4                                1.0   \n \n    number_of_major_vessels_colored_by_flourosopy  thalassemia  \\\n 0                                            0.0          6.0   \n 1                                            3.0          3.0   \n 2                                            2.0          7.0   \n 3                                            0.0          3.0   \n 4                                            0.0          3.0   \n \n    diagnosis_of_heart_disease  \n 0                         0.0  \n 1                         2.0  \n 2                         1.0  \n 3                         0.0  \n 4                         0.0  ,\n age                                                   0\n gender                                                0\n chest_pain_type                                       0\n resting_blood_pressure                                0\n serum_cholesterol_mg_per_dl                           0\n fasting_blood_sugar_gt_120_mg_per_dl                  0\n resting_ecg_results                                   0\n maximum_heart_rate_achieved                           0\n exercise_induced_angina                               0\n st_depression_induced_by_exercise_relative_to_rest    0\n slope_of_peak_exercise_st_segment                     0\n number_of_major_vessels_colored_by_flourosopy         0\n thalassemia                                           0\n diagnosis_of_heart_disease                            0\n dtype: int64)"
     },
     "execution_count": 3,
     "metadata": {},
     "output_type": "execute_result"
    }
   ],
   "source": [
    "from sklearn.impute import KNNImputer\n",
    "\n",
    "# Initialize the KNN Imputer\n",
    "imputer = KNNImputer(n_neighbors=5)\n",
    "\n",
    "# Impute the missing values using K-Nearest Neighbors\n",
    "heart_disease_data_imputed = pd.DataFrame(imputer.fit_transform(heart_disease_data_renamed),\n",
    "                                          columns=heart_disease_data_renamed.columns)\n",
    "\n",
    "# Check if there are any missing values left\n",
    "missing_values_after_imputation = heart_disease_data_imputed.isnull().sum()\n",
    "\n",
    "heart_disease_data_imputed.head(), missing_values_after_imputation\n"
   ],
   "metadata": {
    "collapsed": false,
    "ExecuteTime": {
     "end_time": "2023-11-20T13:47:25.072220400Z",
     "start_time": "2023-11-20T13:47:23.203650900Z"
    }
   },
   "id": "58a3e7534e0a8e0f"
  },
  {
   "cell_type": "markdown",
   "source": [
    "## Preprocessing"
   ],
   "metadata": {
    "collapsed": false
   },
   "id": "e24d50ffaa0c8b4b"
  },
  {
   "cell_type": "code",
   "execution_count": 4,
   "outputs": [],
   "source": [
    "from sklearn.preprocessing import StandardScaler, OneHotEncoder\n",
    "from sklearn.compose import ColumnTransformer\n",
    "from sklearn.pipeline import Pipeline\n",
    "\n",
    "# Identify categorical and numerical columns\n",
    "categorical_cols = heart_disease_data_imputed.select_dtypes(include=['object', 'category']).columns\n",
    "numerical_cols = heart_disease_data_imputed.select_dtypes(include=['int64', 'float64']).columns\n",
    "\n",
    "# Create a transformer for numerical features\n",
    "numerical_transformer = Pipeline(steps=[\n",
    "    ('scaler', StandardScaler())\n",
    "])\n",
    "\n",
    "# Create a transformer for categorical features\n",
    "categorical_transformer = Pipeline(steps=[\n",
    "    ('onehot', OneHotEncoder(handle_unknown='ignore'))\n",
    "])\n",
    "\n",
    "# Combine transformers into a preprocessor\n",
    "preprocessor = ColumnTransformer(\n",
    "    transformers=[\n",
    "        ('num', numerical_transformer, numerical_cols),\n",
    "        ('cat', categorical_transformer, categorical_cols)\n",
    "    ]\n",
    ")\n",
    "\n",
    "# Apply transformations to the dataset\n",
    "heart_disease_data_preprocessed = preprocessor.fit_transform(heart_disease_data_imputed)"
   ],
   "metadata": {
    "collapsed": false,
    "ExecuteTime": {
     "end_time": "2023-11-20T13:47:25.096247200Z",
     "start_time": "2023-11-20T13:47:25.075222600Z"
    }
   },
   "id": "42099743b754d270"
  },
  {
   "cell_type": "markdown",
   "source": [
    "## Modeling"
   ],
   "metadata": {
    "collapsed": false
   },
   "id": "3a0446b21fecfcf3"
  },
  {
   "cell_type": "code",
   "execution_count": 5,
   "outputs": [
    {
     "data": {
      "text/plain": "0.9344262295081968"
     },
     "execution_count": 5,
     "metadata": {},
     "output_type": "execute_result"
    }
   ],
   "source": [
    "from sklearn.model_selection import train_test_split, GridSearchCV\n",
    "from sklearn.ensemble import RandomForestClassifier\n",
    "from sklearn.metrics import accuracy_score\n",
    "\n",
    "target = heart_disease_data_imputed['diagnosis_of_heart_disease'].values\n",
    "\n",
    "# Split the data into train and test sets\n",
    "X_train, X_test, y_train, y_test = train_test_split(heart_disease_data_preprocessed, target, test_size=0.2, random_state=42)\n",
    "\n",
    "# Initialize the classifier\n",
    "rf = RandomForestClassifier(random_state=42)\n",
    "\n",
    "# Define the grid of parameters to search\n",
    "param_grid = {\n",
    "    'n_estimators': [100, 200, 300],\n",
    "    'max_depth': [None, 5, 10],\n",
    "    # Add other parameters here\n",
    "}\n",
    "\n",
    "# Initialize the grid search\n",
    "grid_search = GridSearchCV(estimator=rf, param_grid=param_grid, cv=5)\n",
    "\n",
    "# Fit the grid search to the data\n",
    "grid_search.fit(X_train, y_train)\n",
    "\n",
    "# Get the best parameters\n",
    "best_params = grid_search.best_params_\n",
    "\n",
    "# Predict on the test set using the best model\n",
    "best_model = grid_search.best_estimator_\n",
    "y_pred = best_model.predict(X_test)\n",
    "\n",
    "# Calculate accuracy\n",
    "accuracy = accuracy_score(y_test, y_pred)\n",
    "accuracy\n"
   ],
   "metadata": {
    "collapsed": false,
    "ExecuteTime": {
     "end_time": "2023-11-20T13:47:35.811830700Z",
     "start_time": "2023-11-20T13:47:25.101254700Z"
    }
   },
   "id": "b25ec0839e8e5b4"
  },
  {
   "cell_type": "code",
   "execution_count": 5,
   "outputs": [],
   "source": [],
   "metadata": {
    "collapsed": false,
    "ExecuteTime": {
     "end_time": "2023-11-20T13:47:35.812811200Z",
     "start_time": "2023-11-20T13:47:35.804805400Z"
    }
   },
   "id": "a6fefcf2c3342127"
  }
 ],
 "metadata": {
  "kernelspec": {
   "display_name": "Python 3",
   "language": "python",
   "name": "python3"
  },
  "language_info": {
   "codemirror_mode": {
    "name": "ipython",
    "version": 2
   },
   "file_extension": ".py",
   "mimetype": "text/x-python",
   "name": "python",
   "nbconvert_exporter": "python",
   "pygments_lexer": "ipython2",
   "version": "2.7.6"
  }
 },
 "nbformat": 4,
 "nbformat_minor": 5
}
