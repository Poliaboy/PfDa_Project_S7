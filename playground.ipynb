{
 "cells": [
  {
   "cell_type": "code",
   "execution_count": 65,
   "outputs": [],
   "source": [
    "\n",
    "import numpy as np\n",
    "import pandas as pd\n",
    "import matplotlib.pyplot as plt\n",
    "import seaborn as sns\n",
    "from sklearn.linear_model import LogisticRegression\n",
    "from sklearn.preprocessing import StandardScaler\n",
    "from sklearn.naive_bayes import GaussianNB\n",
    "from sklearn.ensemble import GradientBoostingClassifier\n",
    "from sklearn.metrics import confusion_matrix,accuracy_score,roc_curve,classification_report\n",
    "from sklearn.neighbors import KNeighborsClassifier\n",
    "from sklearn.svm import SVC\n",
    "%matplotlib inline"
   ],
   "metadata": {
    "collapsed": false,
    "ExecuteTime": {
     "end_time": "2023-11-25T00:05:39.592142700Z",
     "start_time": "2023-11-25T00:05:39.504378800Z"
    }
   },
   "id": "61a77651bb018e29"
  },
  {
   "cell_type": "markdown",
   "source": [
    "**Data loading**"
   ],
   "metadata": {
    "collapsed": false
   },
   "id": "6aafce1a4e455d45"
  },
  {
   "cell_type": "code",
   "execution_count": 66,
   "outputs": [
    {
     "name": "stdout",
     "output_type": "stream",
     "text": [
      "{'uci_id': 45, 'name': 'Heart Disease', 'repository_url': 'https://archive.ics.uci.edu/dataset/45/heart+disease', 'data_url': 'https://archive.ics.uci.edu/static/public/45/data.csv', 'abstract': '4 databases: Cleveland, Hungary, Switzerland, and the VA Long Beach', 'area': 'Health and Medicine', 'tasks': ['Classification'], 'characteristics': ['Multivariate'], 'num_instances': 303, 'num_features': 13, 'feature_types': ['Categorical', 'Integer', 'Real'], 'demographics': ['Age', 'Sex'], 'target_col': ['num'], 'index_col': None, 'has_missing_values': 'yes', 'missing_values_symbol': 'NaN', 'year_of_dataset_creation': 1989, 'last_updated': 'Fri Nov 03 2023', 'dataset_doi': '10.24432/C52P4X', 'creators': ['Andras Janosi', 'William Steinbrunn', 'Matthias Pfisterer', 'Robert Detrano'], 'intro_paper': {'title': 'International application of a new probability algorithm for the diagnosis of coronary artery disease.', 'authors': 'R. Detrano, A. Jánosi, W. Steinbrunn, M. Pfisterer, J. Schmid, S. Sandhu, K. Guppy, S. Lee, V. Froelicher', 'published_in': 'American Journal of Cardiology', 'year': 1989, 'url': 'https://www.semanticscholar.org/paper/a7d714f8f87bfc41351eb5ae1e5472f0ebbe0574', 'doi': None}, 'additional_info': {'summary': 'This database contains 76 attributes, but all published experiments refer to using a subset of 14 of them.  In particular, the Cleveland database is the only one that has been used by ML researchers to date.  The \"goal\" field refers to the presence of heart disease in the patient.  It is integer valued from 0 (no presence) to 4. Experiments with the Cleveland database have concentrated on simply attempting to distinguish presence (values 1,2,3,4) from absence (value 0).  \\n   \\nThe names and social security numbers of the patients were recently removed from the database, replaced with dummy values.\\n\\nOne file has been \"processed\", that one containing the Cleveland database.  All four unprocessed files also exist in this directory.\\n\\nTo see Test Costs (donated by Peter Turney), please see the folder \"Costs\" ', 'purpose': None, 'funded_by': None, 'instances_represent': None, 'recommended_data_splits': None, 'sensitive_data': None, 'preprocessing_description': None, 'variable_info': 'Only 14 attributes used:\\r\\n      1. #3  (age)       \\r\\n      2. #4  (sex)       \\r\\n      3. #9  (cp)        \\r\\n      4. #10 (trestbps)  \\r\\n      5. #12 (chol)      \\r\\n      6. #16 (fbs)       \\r\\n      7. #19 (restecg)   \\r\\n      8. #32 (thalach)   \\r\\n      9. #38 (exang)     \\r\\n      10. #40 (oldpeak)   \\r\\n      11. #41 (slope)     \\r\\n      12. #44 (ca)        \\r\\n      13. #51 (thal)      \\r\\n      14. #58 (num)       (the predicted attribute)\\r\\n\\r\\nComplete attribute documentation:\\r\\n      1 id: patient identification number\\r\\n      2 ccf: social security number (I replaced this with a dummy value of 0)\\r\\n      3 age: age in years\\r\\n      4 sex: sex (1 = male; 0 = female)\\r\\n      5 painloc: chest pain location (1 = substernal; 0 = otherwise)\\r\\n      6 painexer (1 = provoked by exertion; 0 = otherwise)\\r\\n      7 relrest (1 = relieved after rest; 0 = otherwise)\\r\\n      8 pncaden (sum of 5, 6, and 7)\\r\\n      9 cp: chest pain type\\r\\n        -- Value 1: typical angina\\r\\n        -- Value 2: atypical angina\\r\\n        -- Value 3: non-anginal pain\\r\\n        -- Value 4: asymptomatic\\r\\n     10 trestbps: resting blood pressure (in mm Hg on admission to the hospital)\\r\\n     11 htn\\r\\n     12 chol: serum cholestoral in mg/dl\\r\\n     13 smoke: I believe this is 1 = yes; 0 = no (is or is not a smoker)\\r\\n     14 cigs (cigarettes per day)\\r\\n     15 years (number of years as a smoker)\\r\\n     16 fbs: (fasting blood sugar > 120 mg/dl)  (1 = true; 0 = false)\\r\\n     17 dm (1 = history of diabetes; 0 = no such history)\\r\\n     18 famhist: family history of coronary artery disease (1 = yes; 0 = no)\\r\\n     19 restecg: resting electrocardiographic results\\r\\n        -- Value 0: normal\\r\\n        -- Value 1: having ST-T wave abnormality (T wave inversions and/or ST elevation or depression of > 0.05 mV)\\r\\n        -- Value 2: showing probable or definite left ventricular hypertrophy by Estes\\' criteria\\r\\n     20 ekgmo (month of exercise ECG reading)\\r\\n     21 ekgday(day of exercise ECG reading)\\r\\n     22 ekgyr (year of exercise ECG reading)\\r\\n     23 dig (digitalis used furing exercise ECG: 1 = yes; 0 = no)\\r\\n     24 prop (Beta blocker used during exercise ECG: 1 = yes; 0 = no)\\r\\n     25 nitr (nitrates used during exercise ECG: 1 = yes; 0 = no)\\r\\n     26 pro (calcium channel blocker used during exercise ECG: 1 = yes; 0 = no)\\r\\n     27 diuretic (diuretic used used during exercise ECG: 1 = yes; 0 = no)\\r\\n     28 proto: exercise protocol\\r\\n          1 = Bruce     \\r\\n          2 = Kottus\\r\\n          3 = McHenry\\r\\n          4 = fast Balke\\r\\n          5 = Balke\\r\\n          6 = Noughton \\r\\n          7 = bike 150 kpa min/min  (Not sure if \"kpa min/min\" is what was written!)\\r\\n          8 = bike 125 kpa min/min  \\r\\n          9 = bike 100 kpa min/min\\r\\n         10 = bike 75 kpa min/min\\r\\n         11 = bike 50 kpa min/min\\r\\n         12 = arm ergometer\\r\\n     29 thaldur: duration of exercise test in minutes\\r\\n     30 thaltime: time when ST measure depression was noted\\r\\n     31 met: mets achieved\\r\\n     32 thalach: maximum heart rate achieved\\r\\n     33 thalrest: resting heart rate\\r\\n     34 tpeakbps: peak exercise blood pressure (first of 2 parts)\\r\\n     35 tpeakbpd: peak exercise blood pressure (second of 2 parts)\\r\\n     36 dummy\\r\\n     37 trestbpd: resting blood pressure\\r\\n     38 exang: exercise induced angina (1 = yes; 0 = no)\\r\\n     39 xhypo: (1 = yes; 0 = no)\\r\\n     40 oldpeak = ST depression induced by exercise relative to rest\\r\\n     41 slope: the slope of the peak exercise ST segment\\r\\n        -- Value 1: upsloping\\r\\n        -- Value 2: flat\\r\\n        -- Value 3: downsloping\\r\\n     42 rldv5: height at rest\\r\\n     43 rldv5e: height at peak exercise\\r\\n     44 ca: number of major vessels (0-3) colored by flourosopy\\r\\n     45 restckm: irrelevant\\r\\n     46 exerckm: irrelevant\\r\\n     47 restef: rest raidonuclid (sp?) ejection fraction\\r\\n     48 restwm: rest wall (sp?) motion abnormality\\r\\n        0 = none\\r\\n        1 = mild or moderate\\r\\n        2 = moderate or severe\\r\\n        3 = akinesis or dyskmem (sp?)\\r\\n     49 exeref: exercise radinalid (sp?) ejection fraction\\r\\n     50 exerwm: exercise wall (sp?) motion \\r\\n     51 thal: 3 = normal; 6 = fixed defect; 7 = reversable defect\\r\\n     52 thalsev: not used\\r\\n     53 thalpul: not used\\r\\n     54 earlobe: not used\\r\\n     55 cmo: month of cardiac cath (sp?)  (perhaps \"call\")\\r\\n     56 cday: day of cardiac cath (sp?)\\r\\n     57 cyr: year of cardiac cath (sp?)\\r\\n     58 num: diagnosis of heart disease (angiographic disease status)\\r\\n        -- Value 0: < 50% diameter narrowing\\r\\n        -- Value 1: > 50% diameter narrowing\\r\\n        (in any major vessel: attributes 59 through 68 are vessels)\\r\\n     59 lmt\\r\\n     60 ladprox\\r\\n     61 laddist\\r\\n     62 diag\\r\\n     63 cxmain\\r\\n     64 ramus\\r\\n     65 om1\\r\\n     66 om2\\r\\n     67 rcaprox\\r\\n     68 rcadist\\r\\n     69 lvx1: not used\\r\\n     70 lvx2: not used\\r\\n     71 lvx3: not used\\r\\n     72 lvx4: not used\\r\\n     73 lvf: not used\\r\\n     74 cathef: not used\\r\\n     75 junk: not used\\r\\n     76 name: last name of patient  (I replaced this with the dummy string \"name\")', 'citation': None}}\n",
      "        name     role         type demographic  \\\n",
      "0        age  Feature      Integer         Age   \n",
      "1        sex  Feature  Categorical         Sex   \n",
      "2         cp  Feature  Categorical        None   \n",
      "3   trestbps  Feature      Integer        None   \n",
      "4       chol  Feature      Integer        None   \n",
      "5        fbs  Feature  Categorical        None   \n",
      "6    restecg  Feature  Categorical        None   \n",
      "7    thalach  Feature      Integer        None   \n",
      "8      exang  Feature  Categorical        None   \n",
      "9    oldpeak  Feature      Integer        None   \n",
      "10     slope  Feature  Categorical        None   \n",
      "11        ca  Feature      Integer        None   \n",
      "12      thal  Feature  Categorical        None   \n",
      "13       num   Target      Integer        None   \n",
      "\n",
      "                                          description  units missing_values  \n",
      "0                                                None  years             no  \n",
      "1                                                None   None             no  \n",
      "2                                                None   None             no  \n",
      "3   resting blood pressure (on admission to the ho...  mm Hg             no  \n",
      "4                                   serum cholestoral  mg/dl             no  \n",
      "5                     fasting blood sugar > 120 mg/dl   None             no  \n",
      "6                                                None   None             no  \n",
      "7                         maximum heart rate achieved   None             no  \n",
      "8                             exercise induced angina   None             no  \n",
      "9   ST depression induced by exercise relative to ...   None             no  \n",
      "10                                               None   None             no  \n",
      "11  number of major vessels (0-3) colored by flour...   None            yes  \n",
      "12                                               None   None            yes  \n",
      "13                         diagnosis of heart disease   None             no  \n"
     ]
    }
   ],
   "source": [
    "from ucimlrepo import fetch_ucirepo \n",
    "  \n",
    "# fetch dataset \n",
    "heart_disease = fetch_ucirepo(id=45) \n",
    "  \n",
    "# data (as pandas dataframes) \n",
    "heart_disease_data = heart_disease.data.features \n",
    "target = heart_disease.data.targets \n",
    "  \n",
    "# metadata \n",
    "print(heart_disease.metadata) \n",
    "  \n",
    "# variable information \n",
    "print(heart_disease.variables) \n"
   ],
   "metadata": {
    "collapsed": false,
    "ExecuteTime": {
     "end_time": "2023-11-25T00:05:40.613471500Z",
     "start_time": "2023-11-25T00:05:39.513144200Z"
    }
   },
   "id": "d5c5065147693255"
  },
  {
   "cell_type": "code",
   "execution_count": 67,
   "outputs": [],
   "source": [
    "# Load your data\n",
    "#heart_disease_data = pd.read_csv('heart.csv')"
   ],
   "metadata": {
    "collapsed": false,
    "ExecuteTime": {
     "end_time": "2023-11-25T00:05:40.622107900Z",
     "start_time": "2023-11-25T00:05:40.616574800Z"
    }
   },
   "id": "ca4fcb4b460cd631"
  },
  {
   "cell_type": "code",
   "execution_count": 68,
   "outputs": [
    {
     "name": "stdout",
     "output_type": "stream",
     "text": [
      "<class 'pandas.core.frame.DataFrame'>\n",
      "RangeIndex: 303 entries, 0 to 302\n",
      "Data columns (total 13 columns):\n",
      " #   Column    Non-Null Count  Dtype  \n",
      "---  ------    --------------  -----  \n",
      " 0   age       303 non-null    int64  \n",
      " 1   sex       303 non-null    int64  \n",
      " 2   cp        303 non-null    int64  \n",
      " 3   trestbps  303 non-null    int64  \n",
      " 4   chol      303 non-null    int64  \n",
      " 5   fbs       303 non-null    int64  \n",
      " 6   restecg   303 non-null    int64  \n",
      " 7   thalach   303 non-null    int64  \n",
      " 8   exang     303 non-null    int64  \n",
      " 9   oldpeak   303 non-null    float64\n",
      " 10  slope     303 non-null    int64  \n",
      " 11  ca        299 non-null    float64\n",
      " 12  thal      301 non-null    float64\n",
      "dtypes: float64(3), int64(10)\n",
      "memory usage: 30.9 KB\n"
     ]
    }
   ],
   "source": [
    "heart_disease_data.info()"
   ],
   "metadata": {
    "collapsed": false,
    "ExecuteTime": {
     "end_time": "2023-11-25T00:05:40.629794Z",
     "start_time": "2023-11-25T00:05:40.619585400Z"
    }
   },
   "id": "b8e59c840076c4c2"
  },
  {
   "cell_type": "code",
   "execution_count": 69,
   "outputs": [
    {
     "data": {
      "text/plain": "              age         sex          cp    trestbps        chol         fbs  \\\ncount  303.000000  303.000000  303.000000  303.000000  303.000000  303.000000   \nmean    54.438944    0.679868    3.158416  131.689769  246.693069    0.148515   \nstd      9.038662    0.467299    0.960126   17.599748   51.776918    0.356198   \nmin     29.000000    0.000000    1.000000   94.000000  126.000000    0.000000   \n25%     48.000000    0.000000    3.000000  120.000000  211.000000    0.000000   \n50%     56.000000    1.000000    3.000000  130.000000  241.000000    0.000000   \n75%     61.000000    1.000000    4.000000  140.000000  275.000000    0.000000   \nmax     77.000000    1.000000    4.000000  200.000000  564.000000    1.000000   \n\n          restecg     thalach       exang     oldpeak       slope          ca  \\\ncount  303.000000  303.000000  303.000000  303.000000  303.000000  299.000000   \nmean     0.990099  149.607261    0.326733    1.039604    1.600660    0.672241   \nstd      0.994971   22.875003    0.469794    1.161075    0.616226    0.937438   \nmin      0.000000   71.000000    0.000000    0.000000    1.000000    0.000000   \n25%      0.000000  133.500000    0.000000    0.000000    1.000000    0.000000   \n50%      1.000000  153.000000    0.000000    0.800000    2.000000    0.000000   \n75%      2.000000  166.000000    1.000000    1.600000    2.000000    1.000000   \nmax      2.000000  202.000000    1.000000    6.200000    3.000000    3.000000   \n\n             thal  \ncount  301.000000  \nmean     4.734219  \nstd      1.939706  \nmin      3.000000  \n25%      3.000000  \n50%      3.000000  \n75%      7.000000  \nmax      7.000000  ",
      "text/html": "<div>\n<style scoped>\n    .dataframe tbody tr th:only-of-type {\n        vertical-align: middle;\n    }\n\n    .dataframe tbody tr th {\n        vertical-align: top;\n    }\n\n    .dataframe thead th {\n        text-align: right;\n    }\n</style>\n<table border=\"1\" class=\"dataframe\">\n  <thead>\n    <tr style=\"text-align: right;\">\n      <th></th>\n      <th>age</th>\n      <th>sex</th>\n      <th>cp</th>\n      <th>trestbps</th>\n      <th>chol</th>\n      <th>fbs</th>\n      <th>restecg</th>\n      <th>thalach</th>\n      <th>exang</th>\n      <th>oldpeak</th>\n      <th>slope</th>\n      <th>ca</th>\n      <th>thal</th>\n    </tr>\n  </thead>\n  <tbody>\n    <tr>\n      <th>count</th>\n      <td>303.000000</td>\n      <td>303.000000</td>\n      <td>303.000000</td>\n      <td>303.000000</td>\n      <td>303.000000</td>\n      <td>303.000000</td>\n      <td>303.000000</td>\n      <td>303.000000</td>\n      <td>303.000000</td>\n      <td>303.000000</td>\n      <td>303.000000</td>\n      <td>299.000000</td>\n      <td>301.000000</td>\n    </tr>\n    <tr>\n      <th>mean</th>\n      <td>54.438944</td>\n      <td>0.679868</td>\n      <td>3.158416</td>\n      <td>131.689769</td>\n      <td>246.693069</td>\n      <td>0.148515</td>\n      <td>0.990099</td>\n      <td>149.607261</td>\n      <td>0.326733</td>\n      <td>1.039604</td>\n      <td>1.600660</td>\n      <td>0.672241</td>\n      <td>4.734219</td>\n    </tr>\n    <tr>\n      <th>std</th>\n      <td>9.038662</td>\n      <td>0.467299</td>\n      <td>0.960126</td>\n      <td>17.599748</td>\n      <td>51.776918</td>\n      <td>0.356198</td>\n      <td>0.994971</td>\n      <td>22.875003</td>\n      <td>0.469794</td>\n      <td>1.161075</td>\n      <td>0.616226</td>\n      <td>0.937438</td>\n      <td>1.939706</td>\n    </tr>\n    <tr>\n      <th>min</th>\n      <td>29.000000</td>\n      <td>0.000000</td>\n      <td>1.000000</td>\n      <td>94.000000</td>\n      <td>126.000000</td>\n      <td>0.000000</td>\n      <td>0.000000</td>\n      <td>71.000000</td>\n      <td>0.000000</td>\n      <td>0.000000</td>\n      <td>1.000000</td>\n      <td>0.000000</td>\n      <td>3.000000</td>\n    </tr>\n    <tr>\n      <th>25%</th>\n      <td>48.000000</td>\n      <td>0.000000</td>\n      <td>3.000000</td>\n      <td>120.000000</td>\n      <td>211.000000</td>\n      <td>0.000000</td>\n      <td>0.000000</td>\n      <td>133.500000</td>\n      <td>0.000000</td>\n      <td>0.000000</td>\n      <td>1.000000</td>\n      <td>0.000000</td>\n      <td>3.000000</td>\n    </tr>\n    <tr>\n      <th>50%</th>\n      <td>56.000000</td>\n      <td>1.000000</td>\n      <td>3.000000</td>\n      <td>130.000000</td>\n      <td>241.000000</td>\n      <td>0.000000</td>\n      <td>1.000000</td>\n      <td>153.000000</td>\n      <td>0.000000</td>\n      <td>0.800000</td>\n      <td>2.000000</td>\n      <td>0.000000</td>\n      <td>3.000000</td>\n    </tr>\n    <tr>\n      <th>75%</th>\n      <td>61.000000</td>\n      <td>1.000000</td>\n      <td>4.000000</td>\n      <td>140.000000</td>\n      <td>275.000000</td>\n      <td>0.000000</td>\n      <td>2.000000</td>\n      <td>166.000000</td>\n      <td>1.000000</td>\n      <td>1.600000</td>\n      <td>2.000000</td>\n      <td>1.000000</td>\n      <td>7.000000</td>\n    </tr>\n    <tr>\n      <th>max</th>\n      <td>77.000000</td>\n      <td>1.000000</td>\n      <td>4.000000</td>\n      <td>200.000000</td>\n      <td>564.000000</td>\n      <td>1.000000</td>\n      <td>2.000000</td>\n      <td>202.000000</td>\n      <td>1.000000</td>\n      <td>6.200000</td>\n      <td>3.000000</td>\n      <td>3.000000</td>\n      <td>7.000000</td>\n    </tr>\n  </tbody>\n</table>\n</div>"
     },
     "execution_count": 69,
     "metadata": {},
     "output_type": "execute_result"
    }
   ],
   "source": [
    "heart_disease_data.describe()"
   ],
   "metadata": {
    "collapsed": false,
    "ExecuteTime": {
     "end_time": "2023-11-25T00:05:40.706183100Z",
     "start_time": "2023-11-25T00:05:40.629794Z"
    }
   },
   "id": "bd16fc9b17db9ba1"
  },
  {
   "cell_type": "markdown",
   "source": [
    "**Data formatting and cleaning**\n",
    "\n",
    "*Renaming the columns with more meaningful names*"
   ],
   "metadata": {
    "collapsed": false
   },
   "id": "ebd100794ce0b47d"
  },
  {
   "cell_type": "code",
   "execution_count": 70,
   "outputs": [],
   "source": [
    "# Define a dictionary for renaming the columns\n",
    "renaming_dict = {\n",
    "    'age': 'age',\n",
    "    'sex': 'gender',\n",
    "    'cp': 'chest_pain_type',\n",
    "    'trestbps': 'resting_blood_pressure',\n",
    "    'chol': 'serum_cholesterol_mg_per_dl',\n",
    "    'fbs': 'fasting_blood_sugar_gt_120_mg_per_dl',\n",
    "    'restecg': 'resting_ecg_results',\n",
    "    'thalach': 'maximum_heart_rate_achieved',\n",
    "    'exang': 'exercise_induced_angina',\n",
    "    'oldpeak': 'st_depression_induced_by_exercise_relative_to_rest',\n",
    "    'slope': 'slope_of_peak_exercise_st_segment',\n",
    "    'ca': 'number_of_major_vessels_colored_by_flourosopy',\n",
    "    'thal': 'thalassemia',\n",
    "    'target': 'diagnosis_of_heart_disease'\n",
    "}\n",
    "\n",
    "# Code to rename the columns\n",
    "heart_disease_data_renamed = heart_disease_data.rename(columns=renaming_dict)"
   ],
   "metadata": {
    "collapsed": false,
    "ExecuteTime": {
     "end_time": "2023-11-25T00:05:40.708165900Z",
     "start_time": "2023-11-25T00:05:40.657208300Z"
    }
   },
   "id": "1b00f7369a5eb93a"
  },
  {
   "cell_type": "markdown",
   "source": [
    "*Checking for missing values*"
   ],
   "metadata": {
    "collapsed": false
   },
   "id": "8530a776c9ce1555"
  },
  {
   "cell_type": "code",
   "execution_count": 71,
   "outputs": [
    {
     "data": {
      "text/plain": "(    age  gender  chest_pain_type  resting_blood_pressure  \\\n 0  63.0     1.0              1.0                   145.0   \n 1  67.0     1.0              4.0                   160.0   \n 2  67.0     1.0              4.0                   120.0   \n 3  37.0     1.0              3.0                   130.0   \n 4  41.0     0.0              2.0                   130.0   \n \n    serum_cholesterol_mg_per_dl  fasting_blood_sugar_gt_120_mg_per_dl  \\\n 0                        233.0                                   1.0   \n 1                        286.0                                   0.0   \n 2                        229.0                                   0.0   \n 3                        250.0                                   0.0   \n 4                        204.0                                   0.0   \n \n    resting_ecg_results  maximum_heart_rate_achieved  exercise_induced_angina  \\\n 0                  2.0                        150.0                      0.0   \n 1                  2.0                        108.0                      1.0   \n 2                  2.0                        129.0                      1.0   \n 3                  0.0                        187.0                      0.0   \n 4                  2.0                        172.0                      0.0   \n \n    st_depression_induced_by_exercise_relative_to_rest  \\\n 0                                                2.3    \n 1                                                1.5    \n 2                                                2.6    \n 3                                                3.5    \n 4                                                1.4    \n \n    slope_of_peak_exercise_st_segment  \\\n 0                                3.0   \n 1                                2.0   \n 2                                2.0   \n 3                                3.0   \n 4                                1.0   \n \n    number_of_major_vessels_colored_by_flourosopy  thalassemia  \n 0                                            0.0          6.0  \n 1                                            3.0          3.0  \n 2                                            2.0          7.0  \n 3                                            0.0          3.0  \n 4                                            0.0          3.0  ,\n age                                                   0\n gender                                                0\n chest_pain_type                                       0\n resting_blood_pressure                                0\n serum_cholesterol_mg_per_dl                           0\n fasting_blood_sugar_gt_120_mg_per_dl                  0\n resting_ecg_results                                   0\n maximum_heart_rate_achieved                           0\n exercise_induced_angina                               0\n st_depression_induced_by_exercise_relative_to_rest    0\n slope_of_peak_exercise_st_segment                     0\n number_of_major_vessels_colored_by_flourosopy         0\n thalassemia                                           0\n dtype: int64)"
     },
     "execution_count": 71,
     "metadata": {},
     "output_type": "execute_result"
    }
   ],
   "source": [
    "from sklearn.impute import KNNImputer\n",
    "\n",
    "# Initialize the KNN Imputer\n",
    "imputer = KNNImputer(n_neighbors=5)\n",
    "\n",
    "# Impute the missing values using K-Nearest Neighbors\n",
    "heart_disease_data_imputed = pd.DataFrame(imputer.fit_transform(heart_disease_data_renamed),\n",
    "                                          columns=heart_disease_data_renamed.columns)\n",
    "\n",
    "# Check if there are any missing values left\n",
    "missing_values_after_imputation = heart_disease_data_imputed.isnull().sum()\n",
    "\n",
    "heart_disease_data_imputed.head(), missing_values_after_imputation\n"
   ],
   "metadata": {
    "collapsed": false,
    "ExecuteTime": {
     "end_time": "2023-11-25T00:05:40.709168700Z",
     "start_time": "2023-11-25T00:05:40.664073500Z"
    }
   },
   "id": "58a3e7534e0a8e0f"
  },
  {
   "cell_type": "markdown",
   "source": [
    "## Preprocessing"
   ],
   "metadata": {
    "collapsed": false
   },
   "id": "e24d50ffaa0c8b4b"
  },
  {
   "cell_type": "code",
   "execution_count": 72,
   "outputs": [],
   "source": [
    "from sklearn.preprocessing import StandardScaler, OneHotEncoder\n",
    "from sklearn.compose import ColumnTransformer\n",
    "from sklearn.pipeline import Pipeline\n",
    "\n",
    "# Identify categorical and numerical columns\n",
    "categorical_cols = heart_disease_data_imputed.select_dtypes(include=['object', 'category']).columns\n",
    "numerical_cols = heart_disease_data_imputed.select_dtypes(include=['int64', 'float64']).columns\n",
    "\n",
    "# Create a transformer for numerical features\n",
    "numerical_transformer = Pipeline(steps=[\n",
    "    ('scaler', StandardScaler())\n",
    "])\n",
    "\n",
    "# Create a transformer for categorical features\n",
    "categorical_transformer = Pipeline(steps=[\n",
    "    ('onehot', OneHotEncoder(handle_unknown='ignore'))\n",
    "])\n",
    "\n",
    "# Combine transformers into a preprocessor\n",
    "preprocessor = ColumnTransformer(\n",
    "    transformers=[\n",
    "        ('num', numerical_transformer, numerical_cols),\n",
    "        ('cat', categorical_transformer, categorical_cols)\n",
    "    ]\n",
    ")\n",
    "\n",
    "# Apply transformations to the dataset\n",
    "heart_disease_data_preprocessed = preprocessor.fit_transform(heart_disease_data_imputed)"
   ],
   "metadata": {
    "collapsed": false,
    "ExecuteTime": {
     "end_time": "2023-11-25T00:05:40.709168700Z",
     "start_time": "2023-11-25T00:05:40.681937100Z"
    }
   },
   "id": "42099743b754d270"
  },
  {
   "cell_type": "markdown",
   "source": [
    "## Modeling"
   ],
   "metadata": {
    "collapsed": false
   },
   "id": "3a0446b21fecfcf3"
  },
  {
   "cell_type": "code",
   "execution_count": 73,
   "outputs": [],
   "source": [
    "from sklearn.model_selection import train_test_split, GridSearchCV\n",
    "from sklearn.ensemble import RandomForestClassifier\n",
    "from sklearn.metrics import accuracy_score\n",
    "\n",
    "#target = heart_disease_data_imputed['diagnosis_of_heart_disease'].values\n",
    "\n",
    "# Split the data into train and test sets\n",
    "X_train, X_test, y_train, y_test = train_test_split(heart_disease_data_preprocessed, target, test_size=0.3, random_state=20)"
   ],
   "metadata": {
    "collapsed": false,
    "ExecuteTime": {
     "end_time": "2023-11-25T00:05:40.710232300Z",
     "start_time": "2023-11-25T00:05:40.689743900Z"
    }
   },
   "id": "e61a16acf2e56efe"
  },
  {
   "cell_type": "code",
   "execution_count": 74,
   "outputs": [
    {
     "name": "stderr",
     "output_type": "stream",
     "text": [
      "C:\\Users\\alexs\\PycharmProjects\\PfDa_Project_S7\\venv\\Lib\\site-packages\\sklearn\\base.py:1152: DataConversionWarning: A column-vector y was passed when a 1d array was expected. Please change the shape of y to (n_samples,), for example using ravel().\n",
      "  return fit_method(estimator, *args, **kwargs)\n",
      "C:\\Users\\alexs\\PycharmProjects\\PfDa_Project_S7\\venv\\Lib\\site-packages\\sklearn\\base.py:1152: DataConversionWarning: A column-vector y was passed when a 1d array was expected. Please change the shape of y to (n_samples,), for example using ravel().\n",
      "  return fit_method(estimator, *args, **kwargs)\n",
      "C:\\Users\\alexs\\PycharmProjects\\PfDa_Project_S7\\venv\\Lib\\site-packages\\sklearn\\base.py:1152: DataConversionWarning: A column-vector y was passed when a 1d array was expected. Please change the shape of y to (n_samples,), for example using ravel().\n",
      "  return fit_method(estimator, *args, **kwargs)\n",
      "C:\\Users\\alexs\\PycharmProjects\\PfDa_Project_S7\\venv\\Lib\\site-packages\\sklearn\\base.py:1152: DataConversionWarning: A column-vector y was passed when a 1d array was expected. Please change the shape of y to (n_samples,), for example using ravel().\n",
      "  return fit_method(estimator, *args, **kwargs)\n",
      "C:\\Users\\alexs\\PycharmProjects\\PfDa_Project_S7\\venv\\Lib\\site-packages\\sklearn\\base.py:1152: DataConversionWarning: A column-vector y was passed when a 1d array was expected. Please change the shape of y to (n_samples,), for example using ravel().\n",
      "  return fit_method(estimator, *args, **kwargs)\n",
      "C:\\Users\\alexs\\PycharmProjects\\PfDa_Project_S7\\venv\\Lib\\site-packages\\sklearn\\base.py:1152: DataConversionWarning: A column-vector y was passed when a 1d array was expected. Please change the shape of y to (n_samples,), for example using ravel().\n",
      "  return fit_method(estimator, *args, **kwargs)\n",
      "C:\\Users\\alexs\\PycharmProjects\\PfDa_Project_S7\\venv\\Lib\\site-packages\\sklearn\\base.py:1152: DataConversionWarning: A column-vector y was passed when a 1d array was expected. Please change the shape of y to (n_samples,), for example using ravel().\n",
      "  return fit_method(estimator, *args, **kwargs)\n",
      "C:\\Users\\alexs\\PycharmProjects\\PfDa_Project_S7\\venv\\Lib\\site-packages\\sklearn\\base.py:1152: DataConversionWarning: A column-vector y was passed when a 1d array was expected. Please change the shape of y to (n_samples,), for example using ravel().\n",
      "  return fit_method(estimator, *args, **kwargs)\n",
      "C:\\Users\\alexs\\PycharmProjects\\PfDa_Project_S7\\venv\\Lib\\site-packages\\sklearn\\base.py:1152: DataConversionWarning: A column-vector y was passed when a 1d array was expected. Please change the shape of y to (n_samples,), for example using ravel().\n",
      "  return fit_method(estimator, *args, **kwargs)\n",
      "C:\\Users\\alexs\\PycharmProjects\\PfDa_Project_S7\\venv\\Lib\\site-packages\\sklearn\\base.py:1152: DataConversionWarning: A column-vector y was passed when a 1d array was expected. Please change the shape of y to (n_samples,), for example using ravel().\n",
      "  return fit_method(estimator, *args, **kwargs)\n",
      "C:\\Users\\alexs\\PycharmProjects\\PfDa_Project_S7\\venv\\Lib\\site-packages\\sklearn\\base.py:1152: DataConversionWarning: A column-vector y was passed when a 1d array was expected. Please change the shape of y to (n_samples,), for example using ravel().\n",
      "  return fit_method(estimator, *args, **kwargs)\n",
      "C:\\Users\\alexs\\PycharmProjects\\PfDa_Project_S7\\venv\\Lib\\site-packages\\sklearn\\base.py:1152: DataConversionWarning: A column-vector y was passed when a 1d array was expected. Please change the shape of y to (n_samples,), for example using ravel().\n",
      "  return fit_method(estimator, *args, **kwargs)\n",
      "C:\\Users\\alexs\\PycharmProjects\\PfDa_Project_S7\\venv\\Lib\\site-packages\\sklearn\\base.py:1152: DataConversionWarning: A column-vector y was passed when a 1d array was expected. Please change the shape of y to (n_samples,), for example using ravel().\n",
      "  return fit_method(estimator, *args, **kwargs)\n",
      "C:\\Users\\alexs\\PycharmProjects\\PfDa_Project_S7\\venv\\Lib\\site-packages\\sklearn\\base.py:1152: DataConversionWarning: A column-vector y was passed when a 1d array was expected. Please change the shape of y to (n_samples,), for example using ravel().\n",
      "  return fit_method(estimator, *args, **kwargs)\n",
      "C:\\Users\\alexs\\PycharmProjects\\PfDa_Project_S7\\venv\\Lib\\site-packages\\sklearn\\base.py:1152: DataConversionWarning: A column-vector y was passed when a 1d array was expected. Please change the shape of y to (n_samples,), for example using ravel().\n",
      "  return fit_method(estimator, *args, **kwargs)\n",
      "C:\\Users\\alexs\\PycharmProjects\\PfDa_Project_S7\\venv\\Lib\\site-packages\\sklearn\\base.py:1152: DataConversionWarning: A column-vector y was passed when a 1d array was expected. Please change the shape of y to (n_samples,), for example using ravel().\n",
      "  return fit_method(estimator, *args, **kwargs)\n",
      "C:\\Users\\alexs\\PycharmProjects\\PfDa_Project_S7\\venv\\Lib\\site-packages\\sklearn\\base.py:1152: DataConversionWarning: A column-vector y was passed when a 1d array was expected. Please change the shape of y to (n_samples,), for example using ravel().\n",
      "  return fit_method(estimator, *args, **kwargs)\n",
      "C:\\Users\\alexs\\PycharmProjects\\PfDa_Project_S7\\venv\\Lib\\site-packages\\sklearn\\base.py:1152: DataConversionWarning: A column-vector y was passed when a 1d array was expected. Please change the shape of y to (n_samples,), for example using ravel().\n",
      "  return fit_method(estimator, *args, **kwargs)\n",
      "C:\\Users\\alexs\\PycharmProjects\\PfDa_Project_S7\\venv\\Lib\\site-packages\\sklearn\\base.py:1152: DataConversionWarning: A column-vector y was passed when a 1d array was expected. Please change the shape of y to (n_samples,), for example using ravel().\n",
      "  return fit_method(estimator, *args, **kwargs)\n",
      "C:\\Users\\alexs\\PycharmProjects\\PfDa_Project_S7\\venv\\Lib\\site-packages\\sklearn\\base.py:1152: DataConversionWarning: A column-vector y was passed when a 1d array was expected. Please change the shape of y to (n_samples,), for example using ravel().\n",
      "  return fit_method(estimator, *args, **kwargs)\n",
      "C:\\Users\\alexs\\PycharmProjects\\PfDa_Project_S7\\venv\\Lib\\site-packages\\sklearn\\base.py:1152: DataConversionWarning: A column-vector y was passed when a 1d array was expected. Please change the shape of y to (n_samples,), for example using ravel().\n",
      "  return fit_method(estimator, *args, **kwargs)\n",
      "C:\\Users\\alexs\\PycharmProjects\\PfDa_Project_S7\\venv\\Lib\\site-packages\\sklearn\\base.py:1152: DataConversionWarning: A column-vector y was passed when a 1d array was expected. Please change the shape of y to (n_samples,), for example using ravel().\n",
      "  return fit_method(estimator, *args, **kwargs)\n",
      "C:\\Users\\alexs\\PycharmProjects\\PfDa_Project_S7\\venv\\Lib\\site-packages\\sklearn\\base.py:1152: DataConversionWarning: A column-vector y was passed when a 1d array was expected. Please change the shape of y to (n_samples,), for example using ravel().\n",
      "  return fit_method(estimator, *args, **kwargs)\n",
      "C:\\Users\\alexs\\PycharmProjects\\PfDa_Project_S7\\venv\\Lib\\site-packages\\sklearn\\base.py:1152: DataConversionWarning: A column-vector y was passed when a 1d array was expected. Please change the shape of y to (n_samples,), for example using ravel().\n",
      "  return fit_method(estimator, *args, **kwargs)\n",
      "C:\\Users\\alexs\\PycharmProjects\\PfDa_Project_S7\\venv\\Lib\\site-packages\\sklearn\\base.py:1152: DataConversionWarning: A column-vector y was passed when a 1d array was expected. Please change the shape of y to (n_samples,), for example using ravel().\n",
      "  return fit_method(estimator, *args, **kwargs)\n",
      "C:\\Users\\alexs\\PycharmProjects\\PfDa_Project_S7\\venv\\Lib\\site-packages\\sklearn\\base.py:1152: DataConversionWarning: A column-vector y was passed when a 1d array was expected. Please change the shape of y to (n_samples,), for example using ravel().\n",
      "  return fit_method(estimator, *args, **kwargs)\n",
      "C:\\Users\\alexs\\PycharmProjects\\PfDa_Project_S7\\venv\\Lib\\site-packages\\sklearn\\base.py:1152: DataConversionWarning: A column-vector y was passed when a 1d array was expected. Please change the shape of y to (n_samples,), for example using ravel().\n",
      "  return fit_method(estimator, *args, **kwargs)\n",
      "C:\\Users\\alexs\\PycharmProjects\\PfDa_Project_S7\\venv\\Lib\\site-packages\\sklearn\\base.py:1152: DataConversionWarning: A column-vector y was passed when a 1d array was expected. Please change the shape of y to (n_samples,), for example using ravel().\n",
      "  return fit_method(estimator, *args, **kwargs)\n",
      "C:\\Users\\alexs\\PycharmProjects\\PfDa_Project_S7\\venv\\Lib\\site-packages\\sklearn\\base.py:1152: DataConversionWarning: A column-vector y was passed when a 1d array was expected. Please change the shape of y to (n_samples,), for example using ravel().\n",
      "  return fit_method(estimator, *args, **kwargs)\n",
      "C:\\Users\\alexs\\PycharmProjects\\PfDa_Project_S7\\venv\\Lib\\site-packages\\sklearn\\base.py:1152: DataConversionWarning: A column-vector y was passed when a 1d array was expected. Please change the shape of y to (n_samples,), for example using ravel().\n",
      "  return fit_method(estimator, *args, **kwargs)\n",
      "C:\\Users\\alexs\\PycharmProjects\\PfDa_Project_S7\\venv\\Lib\\site-packages\\sklearn\\base.py:1152: DataConversionWarning: A column-vector y was passed when a 1d array was expected. Please change the shape of y to (n_samples,), for example using ravel().\n",
      "  return fit_method(estimator, *args, **kwargs)\n",
      "C:\\Users\\alexs\\PycharmProjects\\PfDa_Project_S7\\venv\\Lib\\site-packages\\sklearn\\base.py:1152: DataConversionWarning: A column-vector y was passed when a 1d array was expected. Please change the shape of y to (n_samples,), for example using ravel().\n",
      "  return fit_method(estimator, *args, **kwargs)\n",
      "C:\\Users\\alexs\\PycharmProjects\\PfDa_Project_S7\\venv\\Lib\\site-packages\\sklearn\\base.py:1152: DataConversionWarning: A column-vector y was passed when a 1d array was expected. Please change the shape of y to (n_samples,), for example using ravel().\n",
      "  return fit_method(estimator, *args, **kwargs)\n",
      "C:\\Users\\alexs\\PycharmProjects\\PfDa_Project_S7\\venv\\Lib\\site-packages\\sklearn\\base.py:1152: DataConversionWarning: A column-vector y was passed when a 1d array was expected. Please change the shape of y to (n_samples,), for example using ravel().\n",
      "  return fit_method(estimator, *args, **kwargs)\n",
      "C:\\Users\\alexs\\PycharmProjects\\PfDa_Project_S7\\venv\\Lib\\site-packages\\sklearn\\base.py:1152: DataConversionWarning: A column-vector y was passed when a 1d array was expected. Please change the shape of y to (n_samples,), for example using ravel().\n",
      "  return fit_method(estimator, *args, **kwargs)\n",
      "C:\\Users\\alexs\\PycharmProjects\\PfDa_Project_S7\\venv\\Lib\\site-packages\\sklearn\\base.py:1152: DataConversionWarning: A column-vector y was passed when a 1d array was expected. Please change the shape of y to (n_samples,), for example using ravel().\n",
      "  return fit_method(estimator, *args, **kwargs)\n",
      "C:\\Users\\alexs\\PycharmProjects\\PfDa_Project_S7\\venv\\Lib\\site-packages\\sklearn\\base.py:1152: DataConversionWarning: A column-vector y was passed when a 1d array was expected. Please change the shape of y to (n_samples,), for example using ravel().\n",
      "  return fit_method(estimator, *args, **kwargs)\n",
      "C:\\Users\\alexs\\PycharmProjects\\PfDa_Project_S7\\venv\\Lib\\site-packages\\sklearn\\base.py:1152: DataConversionWarning: A column-vector y was passed when a 1d array was expected. Please change the shape of y to (n_samples,), for example using ravel().\n",
      "  return fit_method(estimator, *args, **kwargs)\n",
      "C:\\Users\\alexs\\PycharmProjects\\PfDa_Project_S7\\venv\\Lib\\site-packages\\sklearn\\base.py:1152: DataConversionWarning: A column-vector y was passed when a 1d array was expected. Please change the shape of y to (n_samples,), for example using ravel().\n",
      "  return fit_method(estimator, *args, **kwargs)\n",
      "C:\\Users\\alexs\\PycharmProjects\\PfDa_Project_S7\\venv\\Lib\\site-packages\\sklearn\\base.py:1152: DataConversionWarning: A column-vector y was passed when a 1d array was expected. Please change the shape of y to (n_samples,), for example using ravel().\n",
      "  return fit_method(estimator, *args, **kwargs)\n",
      "C:\\Users\\alexs\\PycharmProjects\\PfDa_Project_S7\\venv\\Lib\\site-packages\\sklearn\\base.py:1152: DataConversionWarning: A column-vector y was passed when a 1d array was expected. Please change the shape of y to (n_samples,), for example using ravel().\n",
      "  return fit_method(estimator, *args, **kwargs)\n",
      "C:\\Users\\alexs\\PycharmProjects\\PfDa_Project_S7\\venv\\Lib\\site-packages\\sklearn\\base.py:1152: DataConversionWarning: A column-vector y was passed when a 1d array was expected. Please change the shape of y to (n_samples,), for example using ravel().\n",
      "  return fit_method(estimator, *args, **kwargs)\n",
      "C:\\Users\\alexs\\PycharmProjects\\PfDa_Project_S7\\venv\\Lib\\site-packages\\sklearn\\base.py:1152: DataConversionWarning: A column-vector y was passed when a 1d array was expected. Please change the shape of y to (n_samples,), for example using ravel().\n",
      "  return fit_method(estimator, *args, **kwargs)\n",
      "C:\\Users\\alexs\\PycharmProjects\\PfDa_Project_S7\\venv\\Lib\\site-packages\\sklearn\\base.py:1152: DataConversionWarning: A column-vector y was passed when a 1d array was expected. Please change the shape of y to (n_samples,), for example using ravel().\n",
      "  return fit_method(estimator, *args, **kwargs)\n",
      "C:\\Users\\alexs\\PycharmProjects\\PfDa_Project_S7\\venv\\Lib\\site-packages\\sklearn\\base.py:1152: DataConversionWarning: A column-vector y was passed when a 1d array was expected. Please change the shape of y to (n_samples,), for example using ravel().\n",
      "  return fit_method(estimator, *args, **kwargs)\n",
      "C:\\Users\\alexs\\PycharmProjects\\PfDa_Project_S7\\venv\\Lib\\site-packages\\sklearn\\base.py:1152: DataConversionWarning: A column-vector y was passed when a 1d array was expected. Please change the shape of y to (n_samples,), for example using ravel().\n",
      "  return fit_method(estimator, *args, **kwargs)\n"
     ]
    },
    {
     "data": {
      "text/plain": "0.6043956043956044"
     },
     "execution_count": 74,
     "metadata": {},
     "output_type": "execute_result"
    }
   ],
   "source": [
    "# Initialize the classifier\n",
    "rf = RandomForestClassifier(random_state=42)\n",
    "\n",
    "# Define the grid of parameters to search\n",
    "param_grid = {\n",
    "    'n_estimators': [100, 200, 300],\n",
    "    'max_depth': [None, 5, 10],\n",
    "    # Add other parameters here\n",
    "}\n",
    "\n",
    "# Initialize the grid search\n",
    "grid_search = GridSearchCV(estimator=rf, param_grid=param_grid, cv=5)\n",
    "\n",
    "# Fit the grid search to the data\n",
    "grid_search.fit(X_train, y_train)\n",
    "\n",
    "# Get the best parameters\n",
    "best_params = grid_search.best_params_\n",
    "\n",
    "# Predict on the test set using the best model\n",
    "best_model = grid_search.best_estimator_\n",
    "y_pred = best_model.predict(X_test)\n",
    "\n",
    "# Calculate accuracy\n",
    "accuracy = accuracy_score(y_test, y_pred)\n",
    "accuracy\n"
   ],
   "metadata": {
    "collapsed": false,
    "ExecuteTime": {
     "end_time": "2023-11-25T00:05:52.688256Z",
     "start_time": "2023-11-25T00:05:40.699651500Z"
    }
   },
   "id": "e223b595ea98bdad"
  },
  {
   "cell_type": "code",
   "execution_count": 75,
   "outputs": [],
   "source": [
    "scaler = StandardScaler()\n",
    "X_train = scaler.fit_transform(X_train)\n",
    "X_test = scaler.transform(X_test)"
   ],
   "metadata": {
    "collapsed": false,
    "ExecuteTime": {
     "end_time": "2023-11-25T00:05:52.703021Z",
     "start_time": "2023-11-25T00:05:52.691247Z"
    }
   },
   "id": "a6fefcf2c3342127"
  },
  {
   "cell_type": "markdown",
   "source": [
    "## Logistic Regression"
   ],
   "metadata": {
    "collapsed": false
   },
   "id": "39aed24064a554cd"
  },
  {
   "cell_type": "code",
   "execution_count": 76,
   "outputs": [
    {
     "name": "stdout",
     "output_type": "stream",
     "text": [
      "Accuracy on Training data:  67.9245283018868\n",
      "Accuracy on Test data:  56.043956043956044\n",
      "Confussion matrix\n",
      "[[45  2  0  2  0]\n",
      " [ 7  1  3  5  0]\n",
      " [ 3  3  2  4  0]\n",
      " [ 2  2  1  3  0]\n",
      " [ 1  2  1  2  0]]\n"
     ]
    },
    {
     "name": "stderr",
     "output_type": "stream",
     "text": [
      "C:\\Users\\alexs\\PycharmProjects\\PfDa_Project_S7\\venv\\Lib\\site-packages\\sklearn\\utils\\validation.py:1183: DataConversionWarning: A column-vector y was passed when a 1d array was expected. Please change the shape of y to (n_samples, ), for example using ravel().\n",
      "  y = column_or_1d(y, warn=True)\n"
     ]
    }
   ],
   "source": [
    "m1=\"Logistic Regression\"\n",
    "lr_model = LogisticRegression(solver=\"liblinear\",random_state=2 )\n",
    "# training the model with training data\n",
    "lr_model.fit(X_train, y_train)\n",
    "# Accuracy on training data\n",
    "X_train_prediction = lr_model.predict(X_train)\n",
    "training_data_accuracy = accuracy_score(X_train_prediction,y_train)\n",
    "print(f\"Accuracy on Training data: \",training_data_accuracy*100)\n",
    "# Accuracy on test data\n",
    "X_test_prediction = lr_model.predict(X_test)\n",
    "test_data_accuracy_lr = accuracy_score(X_test_prediction, y_test)\n",
    "print(f\"Accuracy on Test data: \",test_data_accuracy_lr*100)\n",
    "\n",
    "#Confussion matrix\n",
    "LR_conf_matrix = confusion_matrix(y_test, X_test_prediction)\n",
    "print(\"Confussion matrix\")\n",
    "print(LR_conf_matrix)"
   ],
   "metadata": {
    "collapsed": false,
    "ExecuteTime": {
     "end_time": "2023-11-25T00:05:52.716919200Z",
     "start_time": "2023-11-25T00:05:52.697496300Z"
    }
   },
   "id": "82c39e76a2005de9"
  },
  {
   "cell_type": "markdown",
   "source": [
    "## Naive Bayes"
   ],
   "metadata": {
    "collapsed": false
   },
   "id": "6d57582ca97be4e7"
  },
  {
   "cell_type": "code",
   "execution_count": 77,
   "outputs": [
    {
     "name": "stdout",
     "output_type": "stream",
     "text": [
      "Accuracy on Training data:  64.62264150943396\n",
      "Accuracy on Test data:  47.25274725274725\n",
      "Confussion matrix\n",
      "[[35 11  2  1  0]\n",
      " [ 5  3  4  4  0]\n",
      " [ 0  5  2  4  1]\n",
      " [ 2  1  3  2  0]\n",
      " [ 0  2  1  2  1]]\n"
     ]
    },
    {
     "name": "stderr",
     "output_type": "stream",
     "text": [
      "C:\\Users\\alexs\\PycharmProjects\\PfDa_Project_S7\\venv\\Lib\\site-packages\\sklearn\\utils\\validation.py:1183: DataConversionWarning: A column-vector y was passed when a 1d array was expected. Please change the shape of y to (n_samples, ), for example using ravel().\n",
      "  y = column_or_1d(y, warn=True)\n"
     ]
    }
   ],
   "source": [
    "m2=\"Naive Bayes\"\n",
    "\n",
    "nb = GaussianNB()\n",
    "# training the model with training data\n",
    "nb.fit(X_train,y_train)\n",
    "# Accuracy on training data\n",
    "X_train_prediction = nb.predict(X_train)\n",
    "training_data_accuracy = accuracy_score(X_train_prediction,y_train)\n",
    "print(f\"Accuracy on Training data: \",training_data_accuracy*100)\n",
    "# Accuracy on test data\n",
    "X_test_prediction = nb.predict(X_test)\n",
    "test_data_accuracy_nb = accuracy_score(X_test_prediction, y_test)\n",
    "print(f\"Accuracy on Test data: \",test_data_accuracy_nb*100)\n",
    "\n",
    "#Confussion matrix\n",
    "nb_conf_matrix = confusion_matrix(y_test, X_test_prediction)\n",
    "print(\"Confussion matrix\")\n",
    "print(nb_conf_matrix)"
   ],
   "metadata": {
    "collapsed": false,
    "ExecuteTime": {
     "end_time": "2023-11-25T00:05:52.793072400Z",
     "start_time": "2023-11-25T00:05:52.718922500Z"
    }
   },
   "id": "6fe4e420efdd58cb"
  },
  {
   "cell_type": "markdown",
   "source": [
    "## Random Forest"
   ],
   "metadata": {
    "collapsed": false
   },
   "id": "529ed2fdacd82a5"
  },
  {
   "cell_type": "code",
   "execution_count": 78,
   "outputs": [
    {
     "name": "stderr",
     "output_type": "stream",
     "text": [
      "C:\\Users\\alexs\\PycharmProjects\\PfDa_Project_S7\\venv\\Lib\\site-packages\\sklearn\\base.py:1152: DataConversionWarning: A column-vector y was passed when a 1d array was expected. Please change the shape of y to (n_samples,), for example using ravel().\n",
      "  return fit_method(estimator, *args, **kwargs)\n"
     ]
    },
    {
     "name": "stdout",
     "output_type": "stream",
     "text": [
      "Accuracy on Training data:  92.9245283018868\n",
      "Accuracy on Test data:  59.34065934065934\n",
      "Confussion matrix\n",
      "[[46  1  1  1  0]\n",
      " [ 6  3  1  6  0]\n",
      " [ 5  1  3  3  0]\n",
      " [ 3  2  1  2  0]\n",
      " [ 1  0  1  4  0]]\n"
     ]
    }
   ],
   "source": [
    "m3=\"Random Forest\"\n",
    "rf = RandomForestClassifier(n_estimators=100, criterion=\"entropy\",max_depth=7, min_samples_leaf=2, max_features=\"sqrt\",random_state=2)  \n",
    "# training the model with training data\n",
    "rf.fit(X_train,y_train)\n",
    "# Accuracy on training data\n",
    "X_train_prediction = rf.predict(X_train)\n",
    "training_data_accuracy = accuracy_score(X_train_prediction,y_train)\n",
    "print(f\"Accuracy on Training data: \",training_data_accuracy*100)\n",
    "\n",
    "# Accuracy on test data\n",
    "X_test_prediction = rf.predict(X_test)\n",
    "test_data_accuracy_rf = accuracy_score(X_test_prediction, y_test)\n",
    "print(f\"Accuracy on Test data: \",test_data_accuracy_rf*100)\n",
    "\n",
    "#Confussion matrix\n",
    "rf_conf_matrix = confusion_matrix(y_test, X_test_prediction)\n",
    "print(\"Confussion matrix\")\n",
    "print(rf_conf_matrix)"
   ],
   "metadata": {
    "collapsed": false,
    "ExecuteTime": {
     "end_time": "2023-11-25T00:05:52.919012200Z",
     "start_time": "2023-11-25T00:05:52.734059600Z"
    }
   },
   "id": "aa7f8bc58720e8f8"
  },
  {
   "cell_type": "markdown",
   "source": [
    "## Gradient Boosting"
   ],
   "metadata": {
    "collapsed": false
   },
   "id": "daa31c6c525e2389"
  },
  {
   "cell_type": "code",
   "execution_count": 79,
   "outputs": [
    {
     "name": "stderr",
     "output_type": "stream",
     "text": [
      "C:\\Users\\alexs\\PycharmProjects\\PfDa_Project_S7\\venv\\Lib\\site-packages\\sklearn\\ensemble\\_gb.py:424: DataConversionWarning: A column-vector y was passed when a 1d array was expected. Please change the shape of y to (n_samples, ), for example using ravel().\n",
      "  y = column_or_1d(y, warn=True)\n"
     ]
    },
    {
     "name": "stdout",
     "output_type": "stream",
     "text": [
      "Accuracy on Training data:  96.22641509433963\n",
      "Accuracy on Test data:  59.34065934065934\n",
      "Confussion matrix\n",
      "[[44  2  1  1  1]\n",
      " [ 8  2  1  5  0]\n",
      " [ 2  1  6  3  0]\n",
      " [ 3  1  2  2  0]\n",
      " [ 1  1  1  3  0]]\n"
     ]
    }
   ],
   "source": [
    "m4=\"Extreme Gradient Boost\"\n",
    "Egb = GradientBoostingClassifier(n_estimators=100, subsample= 0.2, min_samples_leaf=2,max_depth=5,random_state=2,max_features=\"sqrt\")\n",
    "# training the model with training data\n",
    "Egb.fit(X_train,y_train)\n",
    "# Accuracy on training data\n",
    "X_train_prediction = Egb.predict(X_train)\n",
    "training_data_accuracy = accuracy_score(X_train_prediction,y_train)\n",
    "print(f\"Accuracy on Training data: \",training_data_accuracy*100)\n",
    "# Accuracy on test data\n",
    "X_test_prediction = Egb.predict(X_test)\n",
    "test_data_accuracy_egb = accuracy_score(X_test_prediction, y_test)\n",
    "print(f\"Accuracy on Test data: \",test_data_accuracy_egb*100)\n",
    "\n",
    "#Confussion matrix\n",
    "Egb_conf_matrix = confusion_matrix(y_test, X_test_prediction)\n",
    "print(\"Confussion matrix\")\n",
    "print(Egb_conf_matrix)"
   ],
   "metadata": {
    "collapsed": false,
    "ExecuteTime": {
     "end_time": "2023-11-25T00:05:53.438373300Z",
     "start_time": "2023-11-25T00:05:52.895987900Z"
    }
   },
   "id": "2013766ff6326662"
  },
  {
   "cell_type": "markdown",
   "source": [
    "## KNN"
   ],
   "metadata": {
    "collapsed": false
   },
   "id": "912fd788d2290a8"
  },
  {
   "cell_type": "code",
   "execution_count": 80,
   "outputs": [
    {
     "name": "stdout",
     "output_type": "stream",
     "text": [
      "Accuracy on Training data:  61.79245283018868\n",
      "Accuracy on Test data:  60.43956043956044\n",
      "Confusion Matrix\n",
      "[[47  1  1  0  0]\n",
      " [ 8  5  1  2  0]\n",
      " [ 3  5  1  3  0]\n",
      " [ 2  4  0  2  0]\n",
      " [ 1  2  1  2  0]]\n"
     ]
    },
    {
     "name": "stderr",
     "output_type": "stream",
     "text": [
      "C:\\Users\\alexs\\PycharmProjects\\PfDa_Project_S7\\venv\\Lib\\site-packages\\sklearn\\neighbors\\_classification.py:233: DataConversionWarning: A column-vector y was passed when a 1d array was expected. Please change the shape of y to (n_samples,), for example using ravel().\n",
      "  return self._fit(X, y)\n"
     ]
    }
   ],
   "source": [
    "m5=\"K-Neighbour\"\n",
    "knn = KNeighborsClassifier(n_neighbors=20, algorithm=\"auto\" )\n",
    "# train on the training set\n",
    "knn.fit(X_train, y_train)\n",
    "# Accuracy on training data\n",
    "X_train_predict= knn.predict(X_train)\n",
    "training_data_accuracy=accuracy_score(X_train_predict, y_train)\n",
    "print(f\"Accuracy on Training data: \",training_data_accuracy*100)\n",
    "# Accuracy on test data\n",
    "X_test_predict= knn.predict(X_test)\n",
    "test_data_accuracy_knn=accuracy_score(X_test_predict, y_test)\n",
    "print(f\"Accuracy on Test data: \",test_data_accuracy_knn*100)\n",
    "#Confussion matrix\n",
    "knn_confusion_matrix=  confusion_matrix(y_test,X_test_predict)\n",
    "print(\"Confusion Matrix\")\n",
    "print(knn_confusion_matrix)"
   ],
   "metadata": {
    "collapsed": false,
    "ExecuteTime": {
     "end_time": "2023-11-25T00:05:53.502881600Z",
     "start_time": "2023-11-25T00:05:53.434381600Z"
    }
   },
   "id": "1e766e84fd02a3da"
  },
  {
   "cell_type": "markdown",
   "source": [
    "## SVC"
   ],
   "metadata": {
    "collapsed": false
   },
   "id": "5bc94675ffc18c7e"
  },
  {
   "cell_type": "code",
   "execution_count": 81,
   "outputs": [
    {
     "name": "stdout",
     "output_type": "stream",
     "text": [
      "Accuracy on Training data:  95.28301886792453\n",
      "Accuracy on Test data:  56.043956043956044\n",
      "Confusion Matrix\n",
      "[[44  3  2  0  0]\n",
      " [ 6  3  3  4  0]\n",
      " [ 5  5  1  1  0]\n",
      " [ 2  0  3  3  0]\n",
      " [ 1  2  1  2  0]]\n"
     ]
    },
    {
     "name": "stderr",
     "output_type": "stream",
     "text": [
      "C:\\Users\\alexs\\PycharmProjects\\PfDa_Project_S7\\venv\\Lib\\site-packages\\sklearn\\utils\\validation.py:1183: DataConversionWarning: A column-vector y was passed when a 1d array was expected. Please change the shape of y to (n_samples, ), for example using ravel().\n",
      "  y = column_or_1d(y, warn=True)\n"
     ]
    }
   ],
   "source": [
    "m6=\"svc\"\n",
    "svc = SVC(C=5,kernel=\"rbf\")\n",
    "svc.fit(X_train, y_train)\n",
    "# Accuracy on training data\n",
    "X_train_predict= svc.predict(X_train)\n",
    "training_data_accuracy=accuracy_score(X_train_predict, y_train)\n",
    "print(f\"Accuracy on Training data: \",training_data_accuracy*100)\n",
    "# Accuracy on test data\n",
    "X_test_predict= svc.predict(X_test)\n",
    "test_data_accuracy_svc=accuracy_score(X_test_predict, y_test)\n",
    "print(f\"Accuracy on Test data: \",test_data_accuracy_svc*100)\n",
    "#Confussion matrix\n",
    "knn_confusion_matrix =  confusion_matrix(y_test,X_test_predict)\n",
    "print(\"Confusion Matrix\")\n",
    "print(knn_confusion_matrix)"
   ],
   "metadata": {
    "collapsed": false,
    "ExecuteTime": {
     "end_time": "2023-11-25T00:05:53.503883500Z",
     "start_time": "2023-11-25T00:05:53.468962800Z"
    }
   },
   "id": "dde139f4baaed888"
  },
  {
   "cell_type": "markdown",
   "source": [
    "## Comparing the models"
   ],
   "metadata": {
    "collapsed": false
   },
   "id": "b5a36b3a81af234c"
  },
  {
   "cell_type": "code",
   "execution_count": 82,
   "outputs": [],
   "source": [
    "results = {\"Models\": [m1, m2, m3 ,m4, m5, m6],\n",
    "           \"Accuracy\": [test_data_accuracy_lr, test_data_accuracy_nb, test_data_accuracy_rf,test_data_accuracy_egb, test_data_accuracy_knn, test_data_accuracy_svc]}\n",
    "    \n",
    "for (key, value) in results.items():\n",
    "    if key==\"Accuracy\":\n",
    "        results[key]=  [item*100 for item in results[key]]\n",
    "\n",
    "    \n",
    "result_df=pd.DataFrame(results)"
   ],
   "metadata": {
    "collapsed": false,
    "ExecuteTime": {
     "end_time": "2023-11-25T00:05:53.504882900Z",
     "start_time": "2023-11-25T00:05:53.488154800Z"
    }
   },
   "id": "de98d95f8c07bea3"
  },
  {
   "cell_type": "code",
   "execution_count": 83,
   "outputs": [
    {
     "data": {
      "text/plain": "                   Models   Accuracy\n0     Logistic Regression  56.043956\n1             Naive Bayes  47.252747\n2           Random Forest  59.340659\n3  Extreme Gradient Boost  59.340659\n4             K-Neighbour  60.439560\n5                     svc  56.043956",
      "text/html": "<div>\n<style scoped>\n    .dataframe tbody tr th:only-of-type {\n        vertical-align: middle;\n    }\n\n    .dataframe tbody tr th {\n        vertical-align: top;\n    }\n\n    .dataframe thead th {\n        text-align: right;\n    }\n</style>\n<table border=\"1\" class=\"dataframe\">\n  <thead>\n    <tr style=\"text-align: right;\">\n      <th></th>\n      <th>Models</th>\n      <th>Accuracy</th>\n    </tr>\n  </thead>\n  <tbody>\n    <tr>\n      <th>0</th>\n      <td>Logistic Regression</td>\n      <td>56.043956</td>\n    </tr>\n    <tr>\n      <th>1</th>\n      <td>Naive Bayes</td>\n      <td>47.252747</td>\n    </tr>\n    <tr>\n      <th>2</th>\n      <td>Random Forest</td>\n      <td>59.340659</td>\n    </tr>\n    <tr>\n      <th>3</th>\n      <td>Extreme Gradient Boost</td>\n      <td>59.340659</td>\n    </tr>\n    <tr>\n      <th>4</th>\n      <td>K-Neighbour</td>\n      <td>60.439560</td>\n    </tr>\n    <tr>\n      <th>5</th>\n      <td>svc</td>\n      <td>56.043956</td>\n    </tr>\n  </tbody>\n</table>\n</div>"
     },
     "execution_count": 83,
     "metadata": {},
     "output_type": "execute_result"
    }
   ],
   "source": [
    "result_df"
   ],
   "metadata": {
    "collapsed": false,
    "ExecuteTime": {
     "end_time": "2023-11-25T00:05:53.504882900Z",
     "start_time": "2023-11-25T00:05:53.496639700Z"
    }
   },
   "id": "67832bb3f831eee5"
  },
  {
   "cell_type": "code",
   "execution_count": 84,
   "outputs": [
    {
     "data": {
      "text/plain": "<Figure size 1200x500 with 1 Axes>",
      "image/png": "[encoded data removed]"
     },
     "metadata": {},
     "output_type": "display_data"
    }
   ],
   "source": [
    "colors = ['red','green','blue','gold','silver','yellow']\n",
    "plt.figure(figsize=(12,5))\n",
    "plt.title(\"barplot Represent Accuracy of different models\")\n",
    "plt.xlabel(\"Accuracy %\")\n",
    "plt.ylabel(\"Algorithms\")\n",
    "plt.bar(result_df['Models'],result_df['Accuracy'],color = colors)\n",
    "plt.show()"
   ],
   "metadata": {
    "collapsed": false,
    "ExecuteTime": {
     "end_time": "2023-11-25T00:05:53.719137500Z",
     "start_time": "2023-11-25T00:05:53.504882900Z"
    }
   },
   "id": "d86bcbcb67a491de"
  }
 ],
 "metadata": {
  "kernelspec": {
   "display_name": "Python 3",
   "language": "python",
   "name": "python3"
  },
  "language_info": {
   "codemirror_mode": {
    "name": "ipython",
    "version": 2
   },
   "file_extension": ".py",
   "mimetype": "text/x-python",
   "name": "python",
   "nbconvert_exporter": "python",
   "pygments_lexer": "ipython2",
   "version": "2.7.6"
  }
 },
 "nbformat": 4,
 "nbformat_minor": 5
}
