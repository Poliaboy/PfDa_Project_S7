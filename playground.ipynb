{
 "cells": [
  {
   "cell_type": "code",
   "execution_count": 209,
   "outputs": [],
   "source": [
    "\n",
    "import numpy as np\n",
    "import pandas as pd\n",
    "import matplotlib.pyplot as plt\n",
    "import seaborn as sns\n",
    "from sklearn.preprocessing import StandardScaler, OneHotEncoder\n",
    "from sklearn.compose import ColumnTransformer\n",
    "from sklearn.pipeline import Pipeline\n",
    "from sklearn.impute import KNNImputer\n",
    "from sklearn.linear_model import LogisticRegression\n",
    "from sklearn.model_selection import train_test_split, GridSearchCV\n",
    "from sklearn.ensemble import RandomForestClassifier\n",
    "from sklearn.metrics import accuracy_score, confusion_matrix, classification_report\n",
    "import xgboost as xgb\n",
    "from sklearn.svm import SVC\n",
    "%matplotlib inline"
   ],
   "metadata": {
    "collapsed": false,
    "ExecuteTime": {
     "end_time": "2023-11-25T18:58:27.114451800Z",
     "start_time": "2023-11-25T18:58:27.039836900Z"
    }
   },
   "id": "61a77651bb018e29"
  },
  {
   "cell_type": "markdown",
   "source": [
    "**Data loading**"
   ],
   "metadata": {
    "collapsed": false
   },
   "id": "6aafce1a4e455d45"
  },
  {
   "cell_type": "code",
   "execution_count": 210,
   "outputs": [
    {
     "name": "stdout",
     "output_type": "stream",
     "text": [
      "     age  sex  cp  trestbps  chol  fbs  restecg  thalach  exang  oldpeak  \\\n",
      "0     63    1   1       145   233    1        2      150      0      2.3   \n",
      "1     67    1   4       160   286    0        2      108      1      1.5   \n",
      "2     67    1   4       120   229    0        2      129      1      2.6   \n",
      "3     37    1   3       130   250    0        0      187      0      3.5   \n",
      "4     41    0   2       130   204    0        2      172      0      1.4   \n",
      "..   ...  ...  ..       ...   ...  ...      ...      ...    ...      ...   \n",
      "298   45    1   1       110   264    0        0      132      0      1.2   \n",
      "299   68    1   4       144   193    1        0      141      0      3.4   \n",
      "300   57    1   4       130   131    0        0      115      1      1.2   \n",
      "301   57    0   2       130   236    0        2      174      0      0.0   \n",
      "302   38    1   3       138   175    0        0      173      0      0.0   \n",
      "\n",
      "     slope   ca  thal  \n",
      "0        3  0.0   6.0  \n",
      "1        2  3.0   3.0  \n",
      "2        2  2.0   7.0  \n",
      "3        3  0.0   3.0  \n",
      "4        1  0.0   3.0  \n",
      "..     ...  ...   ...  \n",
      "298      2  0.0   7.0  \n",
      "299      2  2.0   7.0  \n",
      "300      2  1.0   7.0  \n",
      "301      2  1.0   3.0  \n",
      "302      1  NaN   3.0  \n",
      "\n",
      "[303 rows x 13 columns]      num\n",
      "0      0\n",
      "1      2\n",
      "2      1\n",
      "3      0\n",
      "4      0\n",
      "..   ...\n",
      "298    1\n",
      "299    2\n",
      "300    3\n",
      "301    1\n",
      "302    0\n",
      "\n",
      "[303 rows x 1 columns]\n"
     ]
    }
   ],
   "source": [
    "from ucimlrepo import fetch_ucirepo \n",
    "  \n",
    "# fetch dataset \n",
    "heart_disease = fetch_ucirepo(id=45) \n",
    "  \n",
    "# data (as pandas dataframes) \n",
    "heart_disease_data = heart_disease.data.features \n",
    "target = heart_disease.data.targets \n",
    "print(heart_disease_data, target)"
   ],
   "metadata": {
    "collapsed": false,
    "ExecuteTime": {
     "end_time": "2023-11-25T18:58:28.229929700Z",
     "start_time": "2023-11-25T18:58:27.047588200Z"
    }
   },
   "id": "d5c5065147693255"
  },
  {
   "cell_type": "code",
   "execution_count": 211,
   "outputs": [
    {
     "name": "stdout",
     "output_type": "stream",
     "text": [
      "0      0\n",
      "1      1\n",
      "2      1\n",
      "3      0\n",
      "4      0\n",
      "      ..\n",
      "298    1\n",
      "299    1\n",
      "300    1\n",
      "301    1\n",
      "302    0\n",
      "Name: num, Length: 303, dtype: int64\n"
     ]
    }
   ],
   "source": [
    "def map_target_values(value):\n",
    "    if value > 0:\n",
    "        return 1\n",
    "    else:\n",
    "        return 0\n",
    "\n",
    "# Apply the function to the target column\n",
    "target = target['num'].map(map_target_values)\n",
    "print(target)"
   ],
   "metadata": {
    "collapsed": false,
    "ExecuteTime": {
     "end_time": "2023-11-25T18:58:28.234937800Z",
     "start_time": "2023-11-25T18:58:28.228110900Z"
    }
   },
   "id": "c21aa0dbcd71d1f5"
  },
  {
   "cell_type": "code",
   "execution_count": 212,
   "outputs": [
    {
     "data": {
      "text/plain": "num\n0    164\n1    139\nName: count, dtype: int64"
     },
     "execution_count": 212,
     "metadata": {},
     "output_type": "execute_result"
    }
   ],
   "source": [
    "target.value_counts()"
   ],
   "metadata": {
    "collapsed": false,
    "ExecuteTime": {
     "end_time": "2023-11-25T18:58:28.239111800Z",
     "start_time": "2023-11-25T18:58:28.233938700Z"
    }
   },
   "id": "5781681fc8de7cf6"
  },
  {
   "cell_type": "code",
   "execution_count": 213,
   "outputs": [],
   "source": [
    "# Load your data\n",
    "#heart_disease_data = pd.read_csv('heart.csv')"
   ],
   "metadata": {
    "collapsed": false,
    "ExecuteTime": {
     "end_time": "2023-11-25T18:58:28.245732700Z",
     "start_time": "2023-11-25T18:58:28.239111800Z"
    }
   },
   "id": "ca4fcb4b460cd631"
  },
  {
   "cell_type": "code",
   "execution_count": 214,
   "outputs": [
    {
     "name": "stdout",
     "output_type": "stream",
     "text": [
      "<class 'pandas.core.frame.DataFrame'>\n",
      "RangeIndex: 303 entries, 0 to 302\n",
      "Data columns (total 13 columns):\n",
      " #   Column    Non-Null Count  Dtype  \n",
      "---  ------    --------------  -----  \n",
      " 0   age       303 non-null    int64  \n",
      " 1   sex       303 non-null    int64  \n",
      " 2   cp        303 non-null    int64  \n",
      " 3   trestbps  303 non-null    int64  \n",
      " 4   chol      303 non-null    int64  \n",
      " 5   fbs       303 non-null    int64  \n",
      " 6   restecg   303 non-null    int64  \n",
      " 7   thalach   303 non-null    int64  \n",
      " 8   exang     303 non-null    int64  \n",
      " 9   oldpeak   303 non-null    float64\n",
      " 10  slope     303 non-null    int64  \n",
      " 11  ca        299 non-null    float64\n",
      " 12  thal      301 non-null    float64\n",
      "dtypes: float64(3), int64(10)\n",
      "memory usage: 30.9 KB\n"
     ]
    }
   ],
   "source": [
    "heart_disease_data.info()"
   ],
   "metadata": {
    "collapsed": false,
    "ExecuteTime": {
     "end_time": "2023-11-25T18:58:28.304708Z",
     "start_time": "2023-11-25T18:58:28.245732700Z"
    }
   },
   "id": "b8e59c840076c4c2"
  },
  {
   "cell_type": "code",
   "execution_count": 215,
   "outputs": [
    {
     "data": {
      "text/plain": "              age         sex          cp    trestbps        chol         fbs  \\\ncount  303.000000  303.000000  303.000000  303.000000  303.000000  303.000000   \nmean    54.438944    0.679868    3.158416  131.689769  246.693069    0.148515   \nstd      9.038662    0.467299    0.960126   17.599748   51.776918    0.356198   \nmin     29.000000    0.000000    1.000000   94.000000  126.000000    0.000000   \n25%     48.000000    0.000000    3.000000  120.000000  211.000000    0.000000   \n50%     56.000000    1.000000    3.000000  130.000000  241.000000    0.000000   \n75%     61.000000    1.000000    4.000000  140.000000  275.000000    0.000000   \nmax     77.000000    1.000000    4.000000  200.000000  564.000000    1.000000   \n\n          restecg     thalach       exang     oldpeak       slope          ca  \\\ncount  303.000000  303.000000  303.000000  303.000000  303.000000  299.000000   \nmean     0.990099  149.607261    0.326733    1.039604    1.600660    0.672241   \nstd      0.994971   22.875003    0.469794    1.161075    0.616226    0.937438   \nmin      0.000000   71.000000    0.000000    0.000000    1.000000    0.000000   \n25%      0.000000  133.500000    0.000000    0.000000    1.000000    0.000000   \n50%      1.000000  153.000000    0.000000    0.800000    2.000000    0.000000   \n75%      2.000000  166.000000    1.000000    1.600000    2.000000    1.000000   \nmax      2.000000  202.000000    1.000000    6.200000    3.000000    3.000000   \n\n             thal  \ncount  301.000000  \nmean     4.734219  \nstd      1.939706  \nmin      3.000000  \n25%      3.000000  \n50%      3.000000  \n75%      7.000000  \nmax      7.000000  ",
      "text/html": "<div>\n<style scoped>\n    .dataframe tbody tr th:only-of-type {\n        vertical-align: middle;\n    }\n\n    .dataframe tbody tr th {\n        vertical-align: top;\n    }\n\n    .dataframe thead th {\n        text-align: right;\n    }\n</style>\n<table border=\"1\" class=\"dataframe\">\n  <thead>\n    <tr style=\"text-align: right;\">\n      <th></th>\n      <th>age</th>\n      <th>sex</th>\n      <th>cp</th>\n      <th>trestbps</th>\n      <th>chol</th>\n      <th>fbs</th>\n      <th>restecg</th>\n      <th>thalach</th>\n      <th>exang</th>\n      <th>oldpeak</th>\n      <th>slope</th>\n      <th>ca</th>\n      <th>thal</th>\n    </tr>\n  </thead>\n  <tbody>\n    <tr>\n      <th>count</th>\n      <td>303.000000</td>\n      <td>303.000000</td>\n      <td>303.000000</td>\n      <td>303.000000</td>\n      <td>303.000000</td>\n      <td>303.000000</td>\n      <td>303.000000</td>\n      <td>303.000000</td>\n      <td>303.000000</td>\n      <td>303.000000</td>\n      <td>303.000000</td>\n      <td>299.000000</td>\n      <td>301.000000</td>\n    </tr>\n    <tr>\n      <th>mean</th>\n      <td>54.438944</td>\n      <td>0.679868</td>\n      <td>3.158416</td>\n      <td>131.689769</td>\n      <td>246.693069</td>\n      <td>0.148515</td>\n      <td>0.990099</td>\n      <td>149.607261</td>\n      <td>0.326733</td>\n      <td>1.039604</td>\n      <td>1.600660</td>\n      <td>0.672241</td>\n      <td>4.734219</td>\n    </tr>\n    <tr>\n      <th>std</th>\n      <td>9.038662</td>\n      <td>0.467299</td>\n      <td>0.960126</td>\n      <td>17.599748</td>\n      <td>51.776918</td>\n      <td>0.356198</td>\n      <td>0.994971</td>\n      <td>22.875003</td>\n      <td>0.469794</td>\n      <td>1.161075</td>\n      <td>0.616226</td>\n      <td>0.937438</td>\n      <td>1.939706</td>\n    </tr>\n    <tr>\n      <th>min</th>\n      <td>29.000000</td>\n      <td>0.000000</td>\n      <td>1.000000</td>\n      <td>94.000000</td>\n      <td>126.000000</td>\n      <td>0.000000</td>\n      <td>0.000000</td>\n      <td>71.000000</td>\n      <td>0.000000</td>\n      <td>0.000000</td>\n      <td>1.000000</td>\n      <td>0.000000</td>\n      <td>3.000000</td>\n    </tr>\n    <tr>\n      <th>25%</th>\n      <td>48.000000</td>\n      <td>0.000000</td>\n      <td>3.000000</td>\n      <td>120.000000</td>\n      <td>211.000000</td>\n      <td>0.000000</td>\n      <td>0.000000</td>\n      <td>133.500000</td>\n      <td>0.000000</td>\n      <td>0.000000</td>\n      <td>1.000000</td>\n      <td>0.000000</td>\n      <td>3.000000</td>\n    </tr>\n    <tr>\n      <th>50%</th>\n      <td>56.000000</td>\n      <td>1.000000</td>\n      <td>3.000000</td>\n      <td>130.000000</td>\n      <td>241.000000</td>\n      <td>0.000000</td>\n      <td>1.000000</td>\n      <td>153.000000</td>\n      <td>0.000000</td>\n      <td>0.800000</td>\n      <td>2.000000</td>\n      <td>0.000000</td>\n      <td>3.000000</td>\n    </tr>\n    <tr>\n      <th>75%</th>\n      <td>61.000000</td>\n      <td>1.000000</td>\n      <td>4.000000</td>\n      <td>140.000000</td>\n      <td>275.000000</td>\n      <td>0.000000</td>\n      <td>2.000000</td>\n      <td>166.000000</td>\n      <td>1.000000</td>\n      <td>1.600000</td>\n      <td>2.000000</td>\n      <td>1.000000</td>\n      <td>7.000000</td>\n    </tr>\n    <tr>\n      <th>max</th>\n      <td>77.000000</td>\n      <td>1.000000</td>\n      <td>4.000000</td>\n      <td>200.000000</td>\n      <td>564.000000</td>\n      <td>1.000000</td>\n      <td>2.000000</td>\n      <td>202.000000</td>\n      <td>1.000000</td>\n      <td>6.200000</td>\n      <td>3.000000</td>\n      <td>3.000000</td>\n      <td>7.000000</td>\n    </tr>\n  </tbody>\n</table>\n</div>"
     },
     "execution_count": 215,
     "metadata": {},
     "output_type": "execute_result"
    }
   ],
   "source": [
    "heart_disease_data.describe()"
   ],
   "metadata": {
    "collapsed": false,
    "ExecuteTime": {
     "end_time": "2023-11-25T18:58:28.306708700Z",
     "start_time": "2023-11-25T18:58:28.255664Z"
    }
   },
   "id": "bd16fc9b17db9ba1"
  },
  {
   "cell_type": "markdown",
   "source": [
    "**Data formatting and cleaning**\n",
    "\n",
    "*Renaming the columns with more meaningful names*"
   ],
   "metadata": {
    "collapsed": false
   },
   "id": "ebd100794ce0b47d"
  },
  {
   "cell_type": "code",
   "execution_count": 216,
   "outputs": [],
   "source": [
    "# Define a dictionary for renaming the columns\n",
    "renaming_dict = {\n",
    "    'age': 'age',\n",
    "    'sex': 'gender',\n",
    "    'cp': 'chest_pain_type',\n",
    "    'trestbps': 'resting_blood_pressure',\n",
    "    'chol': 'serum_cholesterol_mg_per_dl',\n",
    "    'fbs': 'fasting_blood_sugar_gt_120_mg_per_dl',\n",
    "    'restecg': 'resting_ecg_results',\n",
    "    'thalach': 'maximum_heart_rate_achieved',\n",
    "    'exang': 'exercise_induced_angina',\n",
    "    'oldpeak': 'st_depression_induced_by_exercise_relative_to_rest',\n",
    "    'slope': 'slope_of_peak_exercise_st_segment',\n",
    "    'ca': 'number_of_major_vessels_colored_by_flourosopy',\n",
    "    'thal': 'thalassemia',\n",
    "}\n",
    "\n",
    "# Code to rename the columns\n",
    "heart_disease_data_renamed = heart_disease_data.rename(columns=renaming_dict)"
   ],
   "metadata": {
    "collapsed": false,
    "ExecuteTime": {
     "end_time": "2023-11-25T18:58:28.306708700Z",
     "start_time": "2023-11-25T18:58:28.285192700Z"
    }
   },
   "id": "1b00f7369a5eb93a"
  },
  {
   "cell_type": "markdown",
   "source": [
    "*Checking for missing values*"
   ],
   "metadata": {
    "collapsed": false
   },
   "id": "8530a776c9ce1555"
  },
  {
   "cell_type": "code",
   "execution_count": 217,
   "outputs": [
    {
     "data": {
      "text/plain": "(    age  gender  chest_pain_type  resting_blood_pressure  \\\n 0  63.0     1.0              1.0                   145.0   \n 1  67.0     1.0              4.0                   160.0   \n 2  67.0     1.0              4.0                   120.0   \n 3  37.0     1.0              3.0                   130.0   \n 4  41.0     0.0              2.0                   130.0   \n \n    serum_cholesterol_mg_per_dl  fasting_blood_sugar_gt_120_mg_per_dl  \\\n 0                        233.0                                   1.0   \n 1                        286.0                                   0.0   \n 2                        229.0                                   0.0   \n 3                        250.0                                   0.0   \n 4                        204.0                                   0.0   \n \n    resting_ecg_results  maximum_heart_rate_achieved  exercise_induced_angina  \\\n 0                  2.0                        150.0                      0.0   \n 1                  2.0                        108.0                      1.0   \n 2                  2.0                        129.0                      1.0   \n 3                  0.0                        187.0                      0.0   \n 4                  2.0                        172.0                      0.0   \n \n    st_depression_induced_by_exercise_relative_to_rest  \\\n 0                                                2.3    \n 1                                                1.5    \n 2                                                2.6    \n 3                                                3.5    \n 4                                                1.4    \n \n    slope_of_peak_exercise_st_segment  \\\n 0                                3.0   \n 1                                2.0   \n 2                                2.0   \n 3                                3.0   \n 4                                1.0   \n \n    number_of_major_vessels_colored_by_flourosopy  thalassemia  \n 0                                            0.0          6.0  \n 1                                            3.0          3.0  \n 2                                            2.0          7.0  \n 3                                            0.0          3.0  \n 4                                            0.0          3.0  ,\n age                                                   0\n gender                                                0\n chest_pain_type                                       0\n resting_blood_pressure                                0\n serum_cholesterol_mg_per_dl                           0\n fasting_blood_sugar_gt_120_mg_per_dl                  0\n resting_ecg_results                                   0\n maximum_heart_rate_achieved                           0\n exercise_induced_angina                               0\n st_depression_induced_by_exercise_relative_to_rest    0\n slope_of_peak_exercise_st_segment                     0\n number_of_major_vessels_colored_by_flourosopy         0\n thalassemia                                           0\n dtype: int64)"
     },
     "execution_count": 217,
     "metadata": {},
     "output_type": "execute_result"
    }
   ],
   "source": [
    "# Initialize the KNN Imputer\n",
    "imputer = KNNImputer(n_neighbors=5)\n",
    "\n",
    "# Impute the missing values using K-Nearest Neighbors\n",
    "heart_disease_data_imputed = pd.DataFrame(imputer.fit_transform(heart_disease_data_renamed),\n",
    "                                          columns=heart_disease_data_renamed.columns)\n",
    "\n",
    "# Check if there are any missing values left\n",
    "missing_values_after_imputation = heart_disease_data_imputed.isnull().sum()\n",
    "\n",
    "heart_disease_data_imputed.head(), missing_values_after_imputation\n"
   ],
   "metadata": {
    "collapsed": false,
    "ExecuteTime": {
     "end_time": "2023-11-25T18:58:28.316255800Z",
     "start_time": "2023-11-25T18:58:28.289710800Z"
    }
   },
   "id": "58a3e7534e0a8e0f"
  },
  {
   "cell_type": "markdown",
   "source": [
    "## Preprocessing"
   ],
   "metadata": {
    "collapsed": false
   },
   "id": "e24d50ffaa0c8b4b"
  },
  {
   "cell_type": "code",
   "execution_count": 218,
   "outputs": [],
   "source": [
    "# Identify categorical and numerical columns\n",
    "categorical_cols = heart_disease_data_imputed.select_dtypes(include=['object', 'category']).columns\n",
    "numerical_cols = heart_disease_data_imputed.select_dtypes(include=['int64', 'float64']).columns\n",
    "\n",
    "# Create a transformer for numerical features\n",
    "numerical_transformer = Pipeline(steps=[\n",
    "    ('scaler', StandardScaler())\n",
    "])\n",
    "\n",
    "# Create a transformer for categorical features\n",
    "categorical_transformer = Pipeline(steps=[\n",
    "    ('onehot', OneHotEncoder(handle_unknown='ignore'))\n",
    "])\n",
    "\n",
    "# Combine transformers into a preprocessor\n",
    "preprocessor = ColumnTransformer(\n",
    "    transformers=[\n",
    "        ('num', numerical_transformer, numerical_cols),\n",
    "        ('cat', categorical_transformer, categorical_cols)\n",
    "    ]\n",
    ")\n",
    "\n",
    "# Apply transformations to the dataset\n",
    "heart_disease_data_preprocessed = preprocessor.fit_transform(heart_disease_data_imputed)"
   ],
   "metadata": {
    "collapsed": false,
    "ExecuteTime": {
     "end_time": "2023-11-25T18:58:28.322615500Z",
     "start_time": "2023-11-25T18:58:28.315262Z"
    }
   },
   "id": "42099743b754d270"
  },
  {
   "cell_type": "markdown",
   "source": [
    "## Modeling"
   ],
   "metadata": {
    "collapsed": false
   },
   "id": "3a0446b21fecfcf3"
  },
  {
   "cell_type": "code",
   "execution_count": 219,
   "outputs": [],
   "source": [
    "# Split the data into train and test sets\n",
    "X_train, X_test, y_train, y_test = train_test_split(heart_disease_data_preprocessed, target, test_size=0.3, random_state=20)"
   ],
   "metadata": {
    "collapsed": false,
    "ExecuteTime": {
     "end_time": "2023-11-25T18:58:28.376179300Z",
     "start_time": "2023-11-25T18:58:28.324615500Z"
    }
   },
   "id": "e61a16acf2e56efe"
  },
  {
   "cell_type": "code",
   "execution_count": 220,
   "outputs": [
    {
     "data": {
      "text/plain": "((212, 13), (91, 13), (212,), (91,))"
     },
     "execution_count": 220,
     "metadata": {},
     "output_type": "execute_result"
    }
   ],
   "source": [
    "X_train.shape, X_test.shape, y_train.shape, y_test.shape"
   ],
   "metadata": {
    "collapsed": false,
    "ExecuteTime": {
     "end_time": "2023-11-25T18:58:28.385179200Z",
     "start_time": "2023-11-25T18:58:28.328975Z"
    }
   },
   "id": "c57eea18f28aa36c"
  },
  {
   "cell_type": "markdown",
   "source": [
    "## Random Forest"
   ],
   "metadata": {
    "collapsed": false
   },
   "id": "8befef1347ba6616"
  },
  {
   "cell_type": "code",
   "execution_count": 221,
   "outputs": [
    {
     "name": "stdout",
     "output_type": "stream",
     "text": [
      "For the Random Forest model:\n",
      "Accuracy on Training data:  94.33962264150944\n",
      "Accuracy on Test data:  84.61538461538461\n",
      "Confussion matrix\n",
      "[[43  6]\n",
      " [ 8 34]]\n"
     ]
    }
   ],
   "source": [
    "# Initialize the classifier\n",
    "rf = RandomForestClassifier(random_state=42)\n",
    "\n",
    "# Define the grid of parameters to search\n",
    "param_grid = {\n",
    "    'n_estimators': [100, 200, 300],\n",
    "    'max_depth': [None, 5, 10],\n",
    "    # Add other parameters here\n",
    "}\n",
    "\n",
    "# Initialize the grid search\n",
    "grid_search = GridSearchCV(estimator=rf, param_grid=param_grid, cv=5)\n",
    "\n",
    "# Fit the grid search to the data\n",
    "grid_search.fit(X_train, y_train)\n",
    "\n",
    "# Get the best parameters\n",
    "best_params = grid_search.best_params_\n",
    "best_model = grid_search.best_estimator_\n",
    "\n",
    "# Accuracy on training data\n",
    "print(\"For the Random Forest model:\")\n",
    "X_train_prediction = best_model.predict(X_train)\n",
    "training_data_accuracy = accuracy_score(X_train_prediction,y_train)\n",
    "print(f\"Accuracy on Training data: \",training_data_accuracy*100)\n",
    "\n",
    "# Accuracy on test data\n",
    "y_pred = best_model.predict(X_test)\n",
    "accuracy = accuracy_score(y_pred, y_test)\n",
    "print(f\"Accuracy on Test data: \",accuracy*100)\n",
    "\n",
    "#Confussion matrix\n",
    "LR_conf_matrix = confusion_matrix(y_test, y_pred)\n",
    "print(\"Confussion matrix\")\n",
    "print(LR_conf_matrix)"
   ],
   "metadata": {
    "collapsed": false,
    "ExecuteTime": {
     "end_time": "2023-11-25T18:58:39.440973100Z",
     "start_time": "2023-11-25T18:58:28.334651700Z"
    }
   },
   "id": "e223b595ea98bdad"
  },
  {
   "cell_type": "markdown",
   "source": [
    "## Logistic Regression"
   ],
   "metadata": {
    "collapsed": false
   },
   "id": "39aed24064a554cd"
  },
  {
   "cell_type": "code",
   "execution_count": 222,
   "outputs": [
    {
     "name": "stdout",
     "output_type": "stream",
     "text": [
      "Accuracy on Training data:  83.9622641509434\n",
      "Accuracy on Test data:  76.92307692307693\n",
      "Confussion matrix\n",
      "[[43  6]\n",
      " [ 8 34]]\n"
     ]
    }
   ],
   "source": [
    "# Initialize the classifier\n",
    "lr_model = LogisticRegression(solver=\"liblinear\",random_state=2 )\n",
    "\n",
    "# training the model with training data\n",
    "lr_model.fit(X_train, y_train)\n",
    "# Accuracy on training data\n",
    "X_train_prediction = lr_model.predict(X_train)\n",
    "training_data_accuracy = accuracy_score(X_train_prediction,y_train)\n",
    "print(f\"Accuracy on Training data: \",training_data_accuracy*100)\n",
    "# Accuracy on test data\n",
    "X_test_prediction = lr_model.predict(X_test)\n",
    "test_data_accuracy_lr = accuracy_score(X_test_prediction, y_test)\n",
    "print(f\"Accuracy on Test data: \",test_data_accuracy_lr*100)\n",
    "\n",
    "#Confussion matrix\n",
    "LR_conf_matrix = confusion_matrix(y_test, y_pred)\n",
    "print(\"Confussion matrix\")\n",
    "print(LR_conf_matrix)"
   ],
   "metadata": {
    "collapsed": false,
    "ExecuteTime": {
     "end_time": "2023-11-25T18:58:39.446233700Z",
     "start_time": "2023-11-25T18:58:39.439972600Z"
    }
   },
   "id": "82c39e76a2005de9"
  },
  {
   "cell_type": "markdown",
   "source": [
    "## XGBoost"
   ],
   "metadata": {
    "collapsed": false
   },
   "id": "84ac5b7085cea144"
  },
  {
   "cell_type": "code",
   "execution_count": 223,
   "outputs": [
    {
     "name": "stdout",
     "output_type": "stream",
     "text": [
      "Accuracy on Training data:  100.0\n",
      "Accuracy on Test data:  78.02197802197803\n",
      "Confussion matrix\n",
      "[[43  6]\n",
      " [ 8 34]]\n"
     ]
    },
    {
     "name": "stderr",
     "output_type": "stream",
     "text": [
      "C:\\Users\\alexs\\PycharmProjects\\PfDa_Project_S7\\venv\\Lib\\site-packages\\xgboost\\core.py:160: UserWarning: [19:58:39] WARNING: C:\\buildkite-agent\\builds\\buildkite-windows-cpu-autoscaling-group-i-0750514818a16474a-1\\xgboost\\xgboost-ci-windows\\src\\objective\\regression_obj.cu:209: reg:linear is now deprecated in favor of reg:squarederror.\n",
      "  warnings.warn(smsg, UserWarning)\n"
     ]
    }
   ],
   "source": [
    "# Initialize the classifier\n",
    "xgb_model = xgb.XGBClassifier(objective=\"reg:linear\", random_state=42)\n",
    "\n",
    "# training the model with training data\n",
    "xgb_model.fit(X_train, y_train)\n",
    "# Accuracy on training data\n",
    "X_train_prediction = xgb_model.predict(X_train)\n",
    "training_data_accuracy = accuracy_score(X_train_prediction,y_train)\n",
    "print(f\"Accuracy on Training data: \",training_data_accuracy*100)\n",
    "# Accuracy on test data\n",
    "X_test_prediction = xgb_model.predict(X_test)\n",
    "test_data_accuracy_lr = accuracy_score(X_test_prediction, y_test)\n",
    "print(f\"Accuracy on Test data: \",test_data_accuracy_lr*100)\n",
    "\n",
    "#Confussion matrix\n",
    "LR_conf_matrix = confusion_matrix(y_test, y_pred)\n",
    "print(\"Confussion matrix\")\n",
    "print(LR_conf_matrix)\n",
    "\n"
   ],
   "metadata": {
    "collapsed": false,
    "ExecuteTime": {
     "end_time": "2023-11-25T18:58:39.537555500Z",
     "start_time": "2023-11-25T18:58:39.449233300Z"
    }
   },
   "id": "248e03cec460c096"
  },
  {
   "cell_type": "code",
   "execution_count": 224,
   "outputs": [],
   "source": [
    "# TODO: Add support vector classifier and a neural network classifier (maybe using tensoflow)"
   ],
   "metadata": {
    "collapsed": false,
    "ExecuteTime": {
     "end_time": "2023-11-25T18:58:39.538556400Z",
     "start_time": "2023-11-25T18:58:39.506910900Z"
    }
   },
   "id": "1b922fcb6d0c67fe"
  },
  {
   "cell_type": "markdown",
   "source": [
    "## Support Vector Classifier"
   ],
   "metadata": {
    "collapsed": false
   },
   "id": "f4f2a8fdf9ce0018"
  },
  {
   "cell_type": "code",
   "execution_count": 225,
   "outputs": [
    {
     "name": "stdout",
     "output_type": "stream",
     "text": [
      "Accuracy on Training data:  91.0377358490566\n",
      "Accuracy on Test data:  80.21978021978022\n",
      "Confussion matrix\n",
      "[[43  6]\n",
      " [ 8 34]]\n"
     ]
    }
   ],
   "source": [
    "# Initialize the classifier\n",
    "svc_model = SVC(random_state=20 )\n",
    "\n",
    "# training the model with training data\n",
    "svc_model.fit(X_train, y_train)\n",
    "# Accuracy on training data\n",
    "X_train_prediction = svc_model.predict(X_train)\n",
    "training_data_accuracy = accuracy_score(X_train_prediction,y_train)\n",
    "print(f\"Accuracy on Training data: \",training_data_accuracy*100)\n",
    "# Accuracy on test data\n",
    "X_test_prediction = svc_model.predict(X_test)\n",
    "test_data_accuracy_lr = accuracy_score(X_test_prediction, y_test)\n",
    "print(f\"Accuracy on Test data: \",test_data_accuracy_lr*100)\n",
    "\n",
    "#Confussion matrix\n",
    "LR_conf_matrix = confusion_matrix(y_test, y_pred)\n",
    "print(\"Confussion matrix\")\n",
    "print(LR_conf_matrix)"
   ],
   "metadata": {
    "collapsed": false,
    "ExecuteTime": {
     "end_time": "2023-11-25T18:58:39.539556200Z",
     "start_time": "2023-11-25T18:58:39.509918300Z"
    }
   },
   "id": "4d1bb34abfb55dd5"
  },
  {
   "cell_type": "markdown",
   "source": [],
   "metadata": {
    "collapsed": false
   },
   "id": "d5ac61f6dd968b0f"
  }
 ],
 "metadata": {
  "kernelspec": {
   "display_name": "Python 3",
   "language": "python",
   "name": "python3"
  },
  "language_info": {
   "codemirror_mode": {
    "name": "ipython",
    "version": 2
   },
   "file_extension": ".py",
   "mimetype": "text/x-python",
   "name": "python",
   "nbconvert_exporter": "python",
   "pygments_lexer": "ipython2",
   "version": "2.7.6"
  }
 },
 "nbformat": 4,
 "nbformat_minor": 5
}
